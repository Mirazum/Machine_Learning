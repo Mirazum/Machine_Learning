{
 "cells": [
  {
   "cell_type": "code",
   "execution_count": 1,
   "metadata": {},
   "outputs": [],
   "source": [
    "# import packages\n",
    "import matplotlib.pyplot as plt\n",
    "import pandas as pd\n",
    "import numpy as np\n",
    "from sklearn.preprocessing import StandardScaler\n",
    "from sklearn.model_selection import train_test_split, GridSearchCV, cross_val_score\n",
    "from sklearn.pipeline import make_pipeline\n",
    "from sklearn.pipeline import Pipeline\n",
    "from sklearn.random_projection import GaussianRandomProjection\n",
    "from sklearn.base import BaseEstimator\n",
    "from sklearn.linear_model import Ridge\n",
    "from sklearn.base import TransformerMixin\n",
    "%matplotlib inline"
   ]
  },
  {
   "cell_type": "code",
   "execution_count": 2,
   "metadata": {},
   "outputs": [],
   "source": [
    "names = ['Sex','Length','Diameter','Height','Whole weight','Shucked weight','Viscera weight','Shell weight','Rings']\n",
    "df = pd.read_csv('abalone.csv',header=None,names=names,sep=';')"
   ]
  },
  {
   "cell_type": "code",
   "execution_count": 3,
   "metadata": {},
   "outputs": [
    {
     "data": {
      "text/html": [
       "<div>\n",
       "<style scoped>\n",
       "    .dataframe tbody tr th:only-of-type {\n",
       "        vertical-align: middle;\n",
       "    }\n",
       "\n",
       "    .dataframe tbody tr th {\n",
       "        vertical-align: top;\n",
       "    }\n",
       "\n",
       "    .dataframe thead th {\n",
       "        text-align: right;\n",
       "    }\n",
       "</style>\n",
       "<table border=\"1\" class=\"dataframe\">\n",
       "  <thead>\n",
       "    <tr style=\"text-align: right;\">\n",
       "      <th></th>\n",
       "      <th>Sex</th>\n",
       "      <th>Length</th>\n",
       "      <th>Diameter</th>\n",
       "      <th>Height</th>\n",
       "      <th>Whole weight</th>\n",
       "      <th>Shucked weight</th>\n",
       "      <th>Viscera weight</th>\n",
       "      <th>Shell weight</th>\n",
       "      <th>Rings</th>\n",
       "    </tr>\n",
       "  </thead>\n",
       "  <tbody>\n",
       "    <tr>\n",
       "      <th>0</th>\n",
       "      <td>M</td>\n",
       "      <td>0.455</td>\n",
       "      <td>0.365</td>\n",
       "      <td>0.095</td>\n",
       "      <td>0.5140</td>\n",
       "      <td>0.2245</td>\n",
       "      <td>0.1010</td>\n",
       "      <td>0.150</td>\n",
       "      <td>15</td>\n",
       "    </tr>\n",
       "    <tr>\n",
       "      <th>1</th>\n",
       "      <td>M</td>\n",
       "      <td>0.350</td>\n",
       "      <td>0.265</td>\n",
       "      <td>0.090</td>\n",
       "      <td>0.2255</td>\n",
       "      <td>0.0995</td>\n",
       "      <td>0.0485</td>\n",
       "      <td>0.070</td>\n",
       "      <td>7</td>\n",
       "    </tr>\n",
       "    <tr>\n",
       "      <th>2</th>\n",
       "      <td>F</td>\n",
       "      <td>0.530</td>\n",
       "      <td>0.420</td>\n",
       "      <td>0.135</td>\n",
       "      <td>0.6770</td>\n",
       "      <td>0.2565</td>\n",
       "      <td>0.1415</td>\n",
       "      <td>0.210</td>\n",
       "      <td>9</td>\n",
       "    </tr>\n",
       "    <tr>\n",
       "      <th>3</th>\n",
       "      <td>M</td>\n",
       "      <td>0.440</td>\n",
       "      <td>0.365</td>\n",
       "      <td>0.125</td>\n",
       "      <td>0.5160</td>\n",
       "      <td>0.2155</td>\n",
       "      <td>0.1140</td>\n",
       "      <td>0.155</td>\n",
       "      <td>10</td>\n",
       "    </tr>\n",
       "    <tr>\n",
       "      <th>4</th>\n",
       "      <td>I</td>\n",
       "      <td>0.330</td>\n",
       "      <td>0.255</td>\n",
       "      <td>0.080</td>\n",
       "      <td>0.2050</td>\n",
       "      <td>0.0895</td>\n",
       "      <td>0.0395</td>\n",
       "      <td>0.055</td>\n",
       "      <td>7</td>\n",
       "    </tr>\n",
       "  </tbody>\n",
       "</table>\n",
       "</div>"
      ],
      "text/plain": [
       "  Sex  Length  Diameter  Height  Whole weight  Shucked weight  Viscera weight  \\\n",
       "0   M   0.455     0.365   0.095        0.5140          0.2245          0.1010   \n",
       "1   M   0.350     0.265   0.090        0.2255          0.0995          0.0485   \n",
       "2   F   0.530     0.420   0.135        0.6770          0.2565          0.1415   \n",
       "3   M   0.440     0.365   0.125        0.5160          0.2155          0.1140   \n",
       "4   I   0.330     0.255   0.080        0.2050          0.0895          0.0395   \n",
       "\n",
       "   Shell weight  Rings  \n",
       "0         0.150     15  \n",
       "1         0.070      7  \n",
       "2         0.210      9  \n",
       "3         0.155     10  \n",
       "4         0.055      7  "
      ]
     },
     "execution_count": 3,
     "metadata": {},
     "output_type": "execute_result"
    }
   ],
   "source": [
    "df.head()\n",
    "#df.tail()"
   ]
  },
  {
   "cell_type": "code",
   "execution_count": 4,
   "metadata": {},
   "outputs": [],
   "source": [
    "# We change the M,F and I categorical variables as numerical using 0,1 and 2.\n",
    "replace_list = {\"Sex\" : {\"M\": 0, \"F\" : 1, \"I\": 2}}\n",
    "df.replace(replace_list,inplace=True)"
   ]
  },
  {
   "cell_type": "code",
   "execution_count": 5,
   "metadata": {},
   "outputs": [
    {
     "data": {
      "text/html": [
       "<div>\n",
       "<style scoped>\n",
       "    .dataframe tbody tr th:only-of-type {\n",
       "        vertical-align: middle;\n",
       "    }\n",
       "\n",
       "    .dataframe tbody tr th {\n",
       "        vertical-align: top;\n",
       "    }\n",
       "\n",
       "    .dataframe thead th {\n",
       "        text-align: right;\n",
       "    }\n",
       "</style>\n",
       "<table border=\"1\" class=\"dataframe\">\n",
       "  <thead>\n",
       "    <tr style=\"text-align: right;\">\n",
       "      <th></th>\n",
       "      <th>Sex</th>\n",
       "      <th>Length</th>\n",
       "      <th>Diameter</th>\n",
       "      <th>Height</th>\n",
       "      <th>Whole weight</th>\n",
       "      <th>Shucked weight</th>\n",
       "      <th>Viscera weight</th>\n",
       "      <th>Shell weight</th>\n",
       "      <th>Rings</th>\n",
       "    </tr>\n",
       "  </thead>\n",
       "  <tbody>\n",
       "    <tr>\n",
       "      <th>0</th>\n",
       "      <td>0</td>\n",
       "      <td>0.455</td>\n",
       "      <td>0.365</td>\n",
       "      <td>0.095</td>\n",
       "      <td>0.5140</td>\n",
       "      <td>0.2245</td>\n",
       "      <td>0.1010</td>\n",
       "      <td>0.150</td>\n",
       "      <td>15</td>\n",
       "    </tr>\n",
       "    <tr>\n",
       "      <th>1</th>\n",
       "      <td>0</td>\n",
       "      <td>0.350</td>\n",
       "      <td>0.265</td>\n",
       "      <td>0.090</td>\n",
       "      <td>0.2255</td>\n",
       "      <td>0.0995</td>\n",
       "      <td>0.0485</td>\n",
       "      <td>0.070</td>\n",
       "      <td>7</td>\n",
       "    </tr>\n",
       "    <tr>\n",
       "      <th>2</th>\n",
       "      <td>1</td>\n",
       "      <td>0.530</td>\n",
       "      <td>0.420</td>\n",
       "      <td>0.135</td>\n",
       "      <td>0.6770</td>\n",
       "      <td>0.2565</td>\n",
       "      <td>0.1415</td>\n",
       "      <td>0.210</td>\n",
       "      <td>9</td>\n",
       "    </tr>\n",
       "    <tr>\n",
       "      <th>3</th>\n",
       "      <td>0</td>\n",
       "      <td>0.440</td>\n",
       "      <td>0.365</td>\n",
       "      <td>0.125</td>\n",
       "      <td>0.5160</td>\n",
       "      <td>0.2155</td>\n",
       "      <td>0.1140</td>\n",
       "      <td>0.155</td>\n",
       "      <td>10</td>\n",
       "    </tr>\n",
       "    <tr>\n",
       "      <th>4</th>\n",
       "      <td>2</td>\n",
       "      <td>0.330</td>\n",
       "      <td>0.255</td>\n",
       "      <td>0.080</td>\n",
       "      <td>0.2050</td>\n",
       "      <td>0.0895</td>\n",
       "      <td>0.0395</td>\n",
       "      <td>0.055</td>\n",
       "      <td>7</td>\n",
       "    </tr>\n",
       "  </tbody>\n",
       "</table>\n",
       "</div>"
      ],
      "text/plain": [
       "   Sex  Length  Diameter  Height  Whole weight  Shucked weight  \\\n",
       "0    0   0.455     0.365   0.095        0.5140          0.2245   \n",
       "1    0   0.350     0.265   0.090        0.2255          0.0995   \n",
       "2    1   0.530     0.420   0.135        0.6770          0.2565   \n",
       "3    0   0.440     0.365   0.125        0.5160          0.2155   \n",
       "4    2   0.330     0.255   0.080        0.2050          0.0895   \n",
       "\n",
       "   Viscera weight  Shell weight  Rings  \n",
       "0          0.1010         0.150     15  \n",
       "1          0.0485         0.070      7  \n",
       "2          0.1415         0.210      9  \n",
       "3          0.1140         0.155     10  \n",
       "4          0.0395         0.055      7  "
      ]
     },
     "execution_count": 5,
     "metadata": {},
     "output_type": "execute_result"
    }
   ],
   "source": [
    "df.head()"
   ]
  },
  {
   "cell_type": "markdown",
   "metadata": {},
   "source": [
    "### predicting abalone dataset with Ridge() & KNeighborsRegressors()"
   ]
  },
  {
   "cell_type": "code",
   "execution_count": 6,
   "metadata": {},
   "outputs": [],
   "source": [
    "# Split off the feature to predict\n",
    "targets = df[\"Rings\"]\n",
    "del df[\"Rings\"]"
   ]
  },
  {
   "cell_type": "code",
   "execution_count": 7,
   "metadata": {},
   "outputs": [],
   "source": [
    "#df.head()"
   ]
  },
  {
   "cell_type": "code",
   "execution_count": 8,
   "metadata": {},
   "outputs": [],
   "source": [
    "from sklearn.model_selection import cross_val_score  \n",
    "# train and test splitting the data\n",
    "X_train, X_test, y_train, y_test = train_test_split(df, targets, test_size = 0.1, random_state = 0)"
   ]
  },
  {
   "cell_type": "code",
   "execution_count": 9,
   "metadata": {},
   "outputs": [],
   "source": [
    "# Standrized the data\n",
    "scaler= StandardScaler().fit(X_train)\n",
    "X_train=scaler.transform(X_train)\n",
    "X_test = scaler.transform(X_test)"
   ]
  },
  {
   "cell_type": "markdown",
   "metadata": {},
   "source": [
    "#### Ridge Regression"
   ]
  },
  {
   "cell_type": "code",
   "execution_count": 10,
   "metadata": {},
   "outputs": [],
   "source": [
    "from sklearn.linear_model import Ridge\n",
    "from sklearn.model_selection import GridSearchCV\n",
    "params={'alpha': [2,1.0,0.8,0.5,0.3,0.2,0.1,0.05,0.02,0.01]}\n",
    "rdg_reg = Ridge()"
   ]
  },
  {
   "cell_type": "code",
   "execution_count": 11,
   "metadata": {},
   "outputs": [],
   "source": [
    "clf = GridSearchCV(rdg_reg, params, cv=5)\n",
    "grid_result=clf.fit(df, targets)"
   ]
  },
  {
   "cell_type": "code",
   "execution_count": 12,
   "metadata": {},
   "outputs": [
    {
     "name": "stdout",
     "output_type": "stream",
     "text": [
      "Best parameters: {'alpha': 1.0}\n"
     ]
    }
   ],
   "source": [
    "print(\"Best parameters: {}\".format(clf.best_params_))"
   ]
  },
  {
   "cell_type": "code",
   "execution_count": 13,
   "metadata": {},
   "outputs": [],
   "source": [
    "predicted_rings= clf.predict(X_test)"
   ]
  },
  {
   "cell_type": "code",
   "execution_count": 14,
   "metadata": {},
   "outputs": [
    {
     "data": {
      "text/plain": [
       "array([ 20.48082679,   2.27332733,   1.56235418, -27.98024015,\n",
       "         3.89358609])"
      ]
     },
     "execution_count": 14,
     "metadata": {},
     "output_type": "execute_result"
    }
   ],
   "source": [
    "predicted_rings[:5]"
   ]
  },
  {
   "cell_type": "code",
   "execution_count": 15,
   "metadata": {
    "scrolled": true
   },
   "outputs": [
    {
     "data": {
      "text/plain": [
       "array([0.38285922, 0.21364114, 0.51261091, 0.52738089, 0.45210594])"
      ]
     },
     "execution_count": 15,
     "metadata": {},
     "output_type": "execute_result"
    }
   ],
   "source": [
    "cross_val_score(clf, df, targets, cv=5)"
   ]
  },
  {
   "cell_type": "code",
   "execution_count": 16,
   "metadata": {},
   "outputs": [
    {
     "name": "stdout",
     "output_type": "stream",
     "text": [
      "Best cross-validation score: 0.42\n",
      "\n"
     ]
    }
   ],
   "source": [
    "print(\"Best cross-validation score: {:.2f}\\n\".format(clf.best_score_))"
   ]
  },
  {
   "cell_type": "markdown",
   "metadata": {},
   "source": [
    "#### KNeighborsRegressors()"
   ]
  },
  {
   "cell_type": "code",
   "execution_count": 17,
   "metadata": {},
   "outputs": [],
   "source": [
    "from sklearn.neighbors import KNeighborsRegressor"
   ]
  },
  {
   "cell_type": "code",
   "execution_count": 18,
   "metadata": {},
   "outputs": [],
   "source": [
    "k = np.arange(30)+1\n",
    "parameters = {'n_neighbors': k}\n",
    "k_reg= KNeighborsRegressor()"
   ]
  },
  {
   "cell_type": "code",
   "execution_count": 19,
   "metadata": {},
   "outputs": [],
   "source": [
    "clf_k = GridSearchCV(k_reg, parameters, cv=5)\n",
    "result=clf_k.fit(df, targets)"
   ]
  },
  {
   "cell_type": "code",
   "execution_count": 20,
   "metadata": {},
   "outputs": [
    {
     "name": "stdout",
     "output_type": "stream",
     "text": [
      "Best parameters: {'alpha': 1.0}\n"
     ]
    }
   ],
   "source": [
    "print(\"Best parameters: {}\".format(clf.best_params_))"
   ]
  },
  {
   "cell_type": "code",
   "execution_count": 21,
   "metadata": {},
   "outputs": [],
   "source": [
    "predicted_rings_k= clf_k.predict(X_test)"
   ]
  },
  {
   "cell_type": "code",
   "execution_count": 22,
   "metadata": {},
   "outputs": [
    {
     "data": {
      "text/plain": [
       "array([ 9.35,  3.8 , 11.45,  3.5 , 12.25])"
      ]
     },
     "execution_count": 22,
     "metadata": {},
     "output_type": "execute_result"
    }
   ],
   "source": [
    "predicted_rings_k[:5]"
   ]
  },
  {
   "cell_type": "code",
   "execution_count": 23,
   "metadata": {
    "scrolled": true
   },
   "outputs": [
    {
     "name": "stdout",
     "output_type": "stream",
     "text": [
      "Best cross-validation score: 0.46\n",
      "\n"
     ]
    }
   ],
   "source": [
    "print(\"Best cross-validation score: {:.2f}\\n\".format(clf_k.best_score_))"
   ]
  },
  {
   "cell_type": "markdown",
   "metadata": {},
   "source": [
    "comment: comaring both cross-validation score we can observe that the KNeighborsRegressors has the heighest score.So in this case KNeighborsRegressor is the best estimator."
   ]
  },
  {
   "cell_type": "code",
   "execution_count": 24,
   "metadata": {},
   "outputs": [],
   "source": [
    "## Using pipeline  to solve the upper problem:"
   ]
  },
  {
   "cell_type": "code",
   "execution_count": 25,
   "metadata": {},
   "outputs": [],
   "source": [
    "#parameter for the ridge and knn regression\n",
    "param_grid = [\n",
    "        {'regression': [Ridge()], \n",
    "         'regression__alpha': [0.001, 0.01, 0.1, 1, 10, 100]},\n",
    "        {'regression': [KNeighborsRegressor()],\n",
    "         'regression__n_neighbors': [1,4,5,6,8,10,15,20,100]              \n",
    "        }\n",
    "        ]"
   ]
  },
  {
   "cell_type": "code",
   "execution_count": 26,
   "metadata": {
    "scrolled": true
   },
   "outputs": [
    {
     "data": {
      "text/plain": [
       "GridSearchCV(cv=5, error_score='raise',\n",
       "       estimator=Pipeline(memory=None,\n",
       "     steps=[('preprocessing', StandardScaler(copy=True, with_mean=True, with_std=True)), ('regression', Ridge(alpha=1.0, copy_X=True, fit_intercept=True, max_iter=None,\n",
       "   normalize=False, random_state=None, solver='auto', tol=0.001))]),\n",
       "       fit_params=None, iid=True, n_jobs=-1,\n",
       "       param_grid=[{'regression': [Ridge(alpha=1.0, copy_X=True, fit_intercept=True, max_iter=None,\n",
       "   normalize=False, random_state=None, solver='auto', tol=0.001)], 'regression__alpha': [0.001, 0.01, 0.1, 1, 10, 100]}, {'regression': [KNeighborsRegressor(algorithm='auto', leaf_size=30, metric='minkowski',\n",
       "          metric_params=None, n_jobs=1, n_neighbors=15, p=2,\n",
       "          weights='uniform')], 'regression__n_neighbors': [1, 4, 5, 6, 8, 10, 15, 20, 100]}],\n",
       "       pre_dispatch='2*n_jobs', refit=True, return_train_score='warn',\n",
       "       scoring=None, verbose=0)"
      ]
     },
     "execution_count": 26,
     "metadata": {},
     "output_type": "execute_result"
    }
   ],
   "source": [
    "#create a pipeline\n",
    "pipe = Pipeline([('preprocessing', StandardScaler()), ('regression',Ridge() )])\n",
    "#model parameter tuning\n",
    "grid = GridSearchCV(pipe, param_grid=param_grid, cv=5, n_jobs=-1)\n",
    "\n",
    "#fitting the training data\n",
    "grid.fit(df, targets)"
   ]
  },
  {
   "cell_type": "code",
   "execution_count": 27,
   "metadata": {
    "scrolled": true
   },
   "outputs": [
    {
     "name": "stdout",
     "output_type": "stream",
     "text": [
      "Best estimator:\n",
      "Pipeline(memory=None,\n",
      "     steps=[('preprocessing', StandardScaler(copy=True, with_mean=True, with_std=True)), ('regression', KNeighborsRegressor(algorithm='auto', leaf_size=30, metric='minkowski',\n",
      "          metric_params=None, n_jobs=1, n_neighbors=15, p=2,\n",
      "          weights='uniform'))])\n"
     ]
    }
   ],
   "source": [
    "print(\"Best estimator:\\n{}\".format(grid.best_estimator_))"
   ]
  },
  {
   "cell_type": "markdown",
   "metadata": {},
   "source": [
    "Using pipeline we can also observe that KNeighborsRegressor is the best estimator"
   ]
  },
  {
   "cell_type": "markdown",
   "metadata": {},
   "source": [
    "## 2. cv_results_"
   ]
  },
  {
   "cell_type": "markdown",
   "metadata": {},
   "source": [
    "#### cv_results_ for KNeighbours"
   ]
  },
  {
   "cell_type": "code",
   "execution_count": 28,
   "metadata": {},
   "outputs": [],
   "source": [
    "mean_1=result.cv_results_['mean_test_score']"
   ]
  },
  {
   "cell_type": "code",
   "execution_count": 29,
   "metadata": {},
   "outputs": [],
   "source": [
    "params_1=result.cv_results_['params']"
   ]
  },
  {
   "cell_type": "code",
   "execution_count": 30,
   "metadata": {},
   "outputs": [],
   "source": [
    "std=result.cv_results_['std_test_score']"
   ]
  },
  {
   "cell_type": "code",
   "execution_count": 31,
   "metadata": {},
   "outputs": [
    {
     "name": "stdout",
     "output_type": "stream",
     "text": [
      "0.060904 (0.139758) with: {'n_neighbors': 1}\n",
      "0.275194 (0.116394) with: {'n_neighbors': 2}\n",
      "0.370691 (0.074701) with: {'n_neighbors': 3}\n",
      "0.407561 (0.073468) with: {'n_neighbors': 4}\n",
      "0.427059 (0.078014) with: {'n_neighbors': 5}\n",
      "0.441518 (0.077064) with: {'n_neighbors': 6}\n",
      "0.444641 (0.078129) with: {'n_neighbors': 7}\n",
      "0.447876 (0.077244) with: {'n_neighbors': 8}\n",
      "0.451624 (0.082966) with: {'n_neighbors': 9}\n",
      "0.454457 (0.080260) with: {'n_neighbors': 10}\n",
      "0.455084 (0.080908) with: {'n_neighbors': 11}\n",
      "0.457907 (0.079936) with: {'n_neighbors': 12}\n",
      "0.456558 (0.080601) with: {'n_neighbors': 13}\n",
      "0.457239 (0.082925) with: {'n_neighbors': 14}\n",
      "0.457604 (0.083960) with: {'n_neighbors': 15}\n",
      "0.455876 (0.085217) with: {'n_neighbors': 16}\n",
      "0.457041 (0.084799) with: {'n_neighbors': 17}\n",
      "0.457928 (0.085663) with: {'n_neighbors': 18}\n",
      "0.457393 (0.086432) with: {'n_neighbors': 19}\n",
      "0.458627 (0.084267) with: {'n_neighbors': 20}\n",
      "0.457201 (0.085479) with: {'n_neighbors': 21}\n",
      "0.456027 (0.087220) with: {'n_neighbors': 22}\n",
      "0.455353 (0.087487) with: {'n_neighbors': 23}\n",
      "0.454857 (0.087694) with: {'n_neighbors': 24}\n",
      "0.452971 (0.088995) with: {'n_neighbors': 25}\n",
      "0.452306 (0.089591) with: {'n_neighbors': 26}\n",
      "0.451488 (0.090064) with: {'n_neighbors': 27}\n",
      "0.450566 (0.089842) with: {'n_neighbors': 28}\n",
      "0.449848 (0.091194) with: {'n_neighbors': 29}\n",
      "0.448742 (0.092344) with: {'n_neighbors': 30}\n"
     ]
    }
   ],
   "source": [
    "for mean, stdev, param in zip(mean_1, std, params_1):\n",
    "    print(\"%f (%f) with: %r\" % (mean, stdev, param))"
   ]
  },
  {
   "cell_type": "markdown",
   "metadata": {},
   "source": [
    "#### cv_result for Ridge Regression"
   ]
  },
  {
   "cell_type": "code",
   "execution_count": 32,
   "metadata": {},
   "outputs": [],
   "source": [
    "means=grid_result.cv_results_['mean_test_score']\n",
    "stdev=grid_result.cv_results_['std_test_score']\n",
    "params=grid_result.cv_results_['params'] "
   ]
  },
  {
   "cell_type": "code",
   "execution_count": 33,
   "metadata": {},
   "outputs": [
    {
     "name": "stdout",
     "output_type": "stream",
     "text": [
      "0.420246 (0.110635) with: {'alpha': 2}\n",
      "0.422431 (0.112687) with: {'alpha': 1.0}\n",
      "0.422304 (0.113295) with: {'alpha': 0.8}\n",
      "0.421336 (0.114304) with: {'alpha': 0.5}\n",
      "0.419769 (0.115005) with: {'alpha': 0.3}\n",
      "0.418494 (0.115351) with: {'alpha': 0.2}\n",
      "0.416691 (0.115700) with: {'alpha': 0.1}\n",
      "0.415510 (0.115887) with: {'alpha': 0.05}\n",
      "0.414683 (0.116009) with: {'alpha': 0.02}\n",
      "0.414384 (0.116053) with: {'alpha': 0.01}\n"
     ]
    }
   ],
   "source": [
    "for mean, stdev, param in zip(means, stdev, params):\n",
    "    print(\"%f (%f) with: %r\" % (mean, stdev, param))"
   ]
  },
  {
   "cell_type": "markdown",
   "metadata": {},
   "source": [
    "### 3. Extreme Learning Machine"
   ]
  },
  {
   "cell_type": "code",
   "execution_count": 34,
   "metadata": {},
   "outputs": [],
   "source": [
    "names = ['Sex','Length','Diameter','Height','Whole weight','Shucked weight','Viscera weight','Shell weight','Rings']\n",
    "df_1 = pd.read_csv('abalone.csv',header=None,names=names,sep=';')"
   ]
  },
  {
   "cell_type": "code",
   "execution_count": 35,
   "metadata": {},
   "outputs": [],
   "source": [
    "replace_list = {\"Sex\" : {\"M\": 0, \"F\" : 1, \"I\": 2}}\n",
    "df_1.replace(replace_list,inplace=True)"
   ]
  },
  {
   "cell_type": "code",
   "execution_count": 36,
   "metadata": {},
   "outputs": [],
   "source": [
    "X =df_1.drop(['Rings'],axis=1)\n",
    "y = df_1['Rings'].values\n"
   ]
  },
  {
   "cell_type": "code",
   "execution_count": 37,
   "metadata": {},
   "outputs": [],
   "source": [
    "#train test split a dataset\n",
    "X_train, X_test, y_train, y_test = train_test_split(X, y, random_state=0)"
   ]
  },
  {
   "cell_type": "code",
   "execution_count": 38,
   "metadata": {},
   "outputs": [],
   "source": [
    "class MyModelPart(BaseEstimator, TransformerMixin):\n",
    "    def fit(self, X, y=None):\n",
    "        return self\n",
    "    \n",
    "    def transform(self, X, y=None):\n",
    "        X_new = X.copy()\n",
    "        X_new = np.tanh(X_new)\n",
    "        return X_new"
   ]
  },
  {
   "cell_type": "code",
   "execution_count": 44,
   "metadata": {},
   "outputs": [],
   "source": [
    "a=np.logspace(-3,3,7)\n",
    "k=np.linspace(5,1000,7).astype(int)\n",
    "\n",
    "grid_params1 = [\n",
    "                  { 'gaussianrandomprojection__n_components':k, 'ridge__alpha':a}\n",
    "                  ]\n",
    "pipe_l=make_pipeline(StandardScaler(),\n",
    "                    GaussianRandomProjection(n_components=25),\n",
    "                    MyModelPart(),\n",
    "                    Ridge(),\n",
    "                    )\n",
    "pipe_l.named_steps\n",
    "grid_l = GridSearchCV(pipe_l, param_grid=grid_params1, cv=5, n_jobs=1, verbose=99)\n",
    "\n"
   ]
  },
  {
   "cell_type": "code",
   "execution_count": 45,
   "metadata": {},
   "outputs": [
    {
     "data": {
      "text/plain": [
       "array([   5,  170,  336,  502,  668,  834, 1000])"
      ]
     },
     "execution_count": 45,
     "metadata": {},
     "output_type": "execute_result"
    }
   ],
   "source": [
    "k"
   ]
  },
  {
   "cell_type": "code",
   "execution_count": 46,
   "metadata": {
    "scrolled": true
   },
   "outputs": [
    {
     "name": "stdout",
     "output_type": "stream",
     "text": [
      "Fitting 5 folds for each of 49 candidates, totalling 245 fits\n",
      "[CV] gaussianrandomprojection__n_components=5, ridge__alpha=0.001 ....\n",
      "[CV]  gaussianrandomprojection__n_components=5, ridge__alpha=0.001, score=0.395214654181952, total=   0.0s\n",
      "[Parallel(n_jobs=1)]: Done   1 out of   1 | elapsed:    0.0s remaining:    0.0s\n",
      "[CV] gaussianrandomprojection__n_components=5, ridge__alpha=0.001 ....\n",
      "[CV]  gaussianrandomprojection__n_components=5, ridge__alpha=0.001, score=0.4222863388615055, total=   0.0s\n",
      "[Parallel(n_jobs=1)]: Done   2 out of   2 | elapsed:    0.0s remaining:    0.0s\n",
      "[CV] gaussianrandomprojection__n_components=5, ridge__alpha=0.001 ....\n",
      "[CV]  gaussianrandomprojection__n_components=5, ridge__alpha=0.001, score=0.46693189114674244, total=   0.0s\n",
      "[Parallel(n_jobs=1)]: Done   3 out of   3 | elapsed:    0.0s remaining:    0.0s\n",
      "[CV] gaussianrandomprojection__n_components=5, ridge__alpha=0.001 ....\n",
      "[CV]  gaussianrandomprojection__n_components=5, ridge__alpha=0.001, score=0.4541578539758624, total=   0.0s\n",
      "[Parallel(n_jobs=1)]: Done   4 out of   4 | elapsed:    0.0s remaining:    0.0s\n",
      "[CV] gaussianrandomprojection__n_components=5, ridge__alpha=0.001 ....\n",
      "[CV]  gaussianrandomprojection__n_components=5, ridge__alpha=0.001, score=0.42424870335419884, total=   0.0s\n",
      "[Parallel(n_jobs=1)]: Done   5 out of   5 | elapsed:    0.0s remaining:    0.0s\n",
      "[CV] gaussianrandomprojection__n_components=5, ridge__alpha=0.01 .....\n",
      "[CV]  gaussianrandomprojection__n_components=5, ridge__alpha=0.01, score=0.3067741220057524, total=   0.0s\n",
      "[Parallel(n_jobs=1)]: Done   6 out of   6 | elapsed:    0.0s remaining:    0.0s\n",
      "[CV] gaussianrandomprojection__n_components=5, ridge__alpha=0.01 .....\n",
      "[CV]  gaussianrandomprojection__n_components=5, ridge__alpha=0.01, score=0.39799021691989733, total=   0.0s\n",
      "[Parallel(n_jobs=1)]: Done   7 out of   7 | elapsed:    0.0s remaining:    0.0s\n",
      "[CV] gaussianrandomprojection__n_components=5, ridge__alpha=0.01 .....\n",
      "[CV]  gaussianrandomprojection__n_components=5, ridge__alpha=0.01, score=0.4488684106933949, total=   0.0s\n",
      "[Parallel(n_jobs=1)]: Done   8 out of   8 | elapsed:    0.0s remaining:    0.0s\n",
      "[CV] gaussianrandomprojection__n_components=5, ridge__alpha=0.01 .....\n",
      "[CV]  gaussianrandomprojection__n_components=5, ridge__alpha=0.01, score=0.36380182626986257, total=   0.0s\n",
      "[Parallel(n_jobs=1)]: Done   9 out of   9 | elapsed:    0.0s remaining:    0.0s\n",
      "[CV] gaussianrandomprojection__n_components=5, ridge__alpha=0.01 .....\n",
      "[CV]  gaussianrandomprojection__n_components=5, ridge__alpha=0.01, score=0.40474428351366576, total=   0.0s\n",
      "[Parallel(n_jobs=1)]: Done  10 out of  10 | elapsed:    0.0s remaining:    0.0s\n",
      "[CV] gaussianrandomprojection__n_components=5, ridge__alpha=0.1 ......\n",
      "[CV]  gaussianrandomprojection__n_components=5, ridge__alpha=0.1, score=0.3433502458276564, total=   0.0s\n",
      "[Parallel(n_jobs=1)]: Done  11 out of  11 | elapsed:    0.0s remaining:    0.0s\n",
      "[CV] gaussianrandomprojection__n_components=5, ridge__alpha=0.1 ......\n",
      "[CV]  gaussianrandomprojection__n_components=5, ridge__alpha=0.1, score=0.3511872464047452, total=   0.0s\n",
      "[Parallel(n_jobs=1)]: Done  12 out of  12 | elapsed:    0.0s remaining:    0.0s\n",
      "[CV] gaussianrandomprojection__n_components=5, ridge__alpha=0.1 ......\n",
      "[CV]  gaussianrandomprojection__n_components=5, ridge__alpha=0.1, score=0.42037334690467215, total=   0.0s\n",
      "[Parallel(n_jobs=1)]: Done  13 out of  13 | elapsed:    0.0s remaining:    0.0s\n",
      "[CV] gaussianrandomprojection__n_components=5, ridge__alpha=0.1 ......\n",
      "[CV]  gaussianrandomprojection__n_components=5, ridge__alpha=0.1, score=0.4252236818442513, total=   0.0s\n",
      "[Parallel(n_jobs=1)]: Done  14 out of  14 | elapsed:    0.0s remaining:    0.0s\n",
      "[CV] gaussianrandomprojection__n_components=5, ridge__alpha=0.1 ......\n",
      "[CV]  gaussianrandomprojection__n_components=5, ridge__alpha=0.1, score=0.470849464175062, total=   0.0s\n",
      "[Parallel(n_jobs=1)]: Done  15 out of  15 | elapsed:    0.0s remaining:    0.0s\n",
      "[CV] gaussianrandomprojection__n_components=5, ridge__alpha=1.0 ......\n",
      "[CV]  gaussianrandomprojection__n_components=5, ridge__alpha=1.0, score=0.36637041432065787, total=   0.0s\n",
      "[Parallel(n_jobs=1)]: Done  16 out of  16 | elapsed:    0.1s remaining:    0.0s\n",
      "[CV] gaussianrandomprojection__n_components=5, ridge__alpha=1.0 ......\n",
      "[CV]  gaussianrandomprojection__n_components=5, ridge__alpha=1.0, score=0.3818043483588732, total=   0.0s\n",
      "[Parallel(n_jobs=1)]: Done  17 out of  17 | elapsed:    0.1s remaining:    0.0s\n",
      "[CV] gaussianrandomprojection__n_components=5, ridge__alpha=1.0 ......\n",
      "[CV]  gaussianrandomprojection__n_components=5, ridge__alpha=1.0, score=0.38183316048763405, total=   0.0s\n",
      "[Parallel(n_jobs=1)]: Done  18 out of  18 | elapsed:    0.1s remaining:    0.0s\n",
      "[CV] gaussianrandomprojection__n_components=5, ridge__alpha=1.0 ......\n",
      "[CV]  gaussianrandomprojection__n_components=5, ridge__alpha=1.0, score=0.3554569806484481, total=   0.0s\n",
      "[Parallel(n_jobs=1)]: Done  19 out of  19 | elapsed:    0.1s remaining:    0.0s\n",
      "[CV] gaussianrandomprojection__n_components=5, ridge__alpha=1.0 ......\n",
      "[CV]  gaussianrandomprojection__n_components=5, ridge__alpha=1.0, score=0.40012457397089385, total=   0.0s\n",
      "[Parallel(n_jobs=1)]: Done  20 out of  20 | elapsed:    0.1s remaining:    0.0s\n",
      "[CV] gaussianrandomprojection__n_components=5, ridge__alpha=10.0 .....\n",
      "[CV]  gaussianrandomprojection__n_components=5, ridge__alpha=10.0, score=0.38626876025668183, total=   0.0s\n",
      "[Parallel(n_jobs=1)]: Done  21 out of  21 | elapsed:    0.1s remaining:    0.0s\n",
      "[CV] gaussianrandomprojection__n_components=5, ridge__alpha=10.0 .....\n",
      "[CV]  gaussianrandomprojection__n_components=5, ridge__alpha=10.0, score=0.40415573443376457, total=   0.0s\n",
      "[Parallel(n_jobs=1)]: Done  22 out of  22 | elapsed:    0.1s remaining:    0.0s\n",
      "[CV] gaussianrandomprojection__n_components=5, ridge__alpha=10.0 .....\n",
      "[CV]  gaussianrandomprojection__n_components=5, ridge__alpha=10.0, score=0.4435446679376001, total=   0.0s\n",
      "[Parallel(n_jobs=1)]: Done  23 out of  23 | elapsed:    0.1s remaining:    0.0s\n",
      "[CV] gaussianrandomprojection__n_components=5, ridge__alpha=10.0 .....\n",
      "[CV]  gaussianrandomprojection__n_components=5, ridge__alpha=10.0, score=0.44356192929025795, total=   0.0s\n",
      "[Parallel(n_jobs=1)]: Done  24 out of  24 | elapsed:    0.1s remaining:    0.0s\n",
      "[CV] gaussianrandomprojection__n_components=5, ridge__alpha=10.0 .....\n",
      "[CV]  gaussianrandomprojection__n_components=5, ridge__alpha=10.0, score=0.3400837596312941, total=   0.0s\n",
      "[Parallel(n_jobs=1)]: Done  25 out of  25 | elapsed:    0.1s remaining:    0.0s\n",
      "[CV] gaussianrandomprojection__n_components=5, ridge__alpha=100.0 ....\n",
      "[CV]  gaussianrandomprojection__n_components=5, ridge__alpha=100.0, score=0.28363952011282056, total=   0.0s\n",
      "[Parallel(n_jobs=1)]: Done  26 out of  26 | elapsed:    0.1s remaining:    0.0s\n",
      "[CV] gaussianrandomprojection__n_components=5, ridge__alpha=100.0 ....\n",
      "[CV]  gaussianrandomprojection__n_components=5, ridge__alpha=100.0, score=0.35795906922111964, total=   0.0s\n",
      "[Parallel(n_jobs=1)]: Done  27 out of  27 | elapsed:    0.2s remaining:    0.0s\n",
      "[CV] gaussianrandomprojection__n_components=5, ridge__alpha=100.0 ....\n",
      "[CV]  gaussianrandomprojection__n_components=5, ridge__alpha=100.0, score=0.30060690636456366, total=   0.0s\n",
      "[Parallel(n_jobs=1)]: Done  28 out of  28 | elapsed:    0.2s remaining:    0.0s\n",
      "[CV] gaussianrandomprojection__n_components=5, ridge__alpha=100.0 ....\n",
      "[CV]  gaussianrandomprojection__n_components=5, ridge__alpha=100.0, score=0.26318122117548026, total=   0.0s\n",
      "[Parallel(n_jobs=1)]: Done  29 out of  29 | elapsed:    0.2s remaining:    0.0s\n",
      "[CV] gaussianrandomprojection__n_components=5, ridge__alpha=100.0 ....\n",
      "[CV]  gaussianrandomprojection__n_components=5, ridge__alpha=100.0, score=0.19227322591399176, total=   0.0s\n",
      "[Parallel(n_jobs=1)]: Done  30 out of  30 | elapsed:    0.2s remaining:    0.0s\n",
      "[CV] gaussianrandomprojection__n_components=5, ridge__alpha=1000.0 ...\n",
      "[CV]  gaussianrandomprojection__n_components=5, ridge__alpha=1000.0, score=0.2970906880428419, total=   0.0s\n",
      "[Parallel(n_jobs=1)]: Done  31 out of  31 | elapsed:    0.2s remaining:    0.0s\n",
      "[CV] gaussianrandomprojection__n_components=5, ridge__alpha=1000.0 ...\n",
      "[CV]  gaussianrandomprojection__n_components=5, ridge__alpha=1000.0, score=0.340862791836549, total=   0.0s\n",
      "[Parallel(n_jobs=1)]: Done  32 out of  32 | elapsed:    0.2s remaining:    0.0s\n",
      "[CV] gaussianrandomprojection__n_components=5, ridge__alpha=1000.0 ...\n",
      "[CV]  gaussianrandomprojection__n_components=5, ridge__alpha=1000.0, score=0.4080170046155215, total=   0.0s\n",
      "[Parallel(n_jobs=1)]: Done  33 out of  33 | elapsed:    0.2s remaining:    0.0s\n",
      "[CV] gaussianrandomprojection__n_components=5, ridge__alpha=1000.0 ...\n",
      "[CV]  gaussianrandomprojection__n_components=5, ridge__alpha=1000.0, score=0.24925212692821777, total=   0.0s\n",
      "[Parallel(n_jobs=1)]: Done  34 out of  34 | elapsed:    0.2s remaining:    0.0s\n",
      "[CV] gaussianrandomprojection__n_components=5, ridge__alpha=1000.0 ...\n",
      "[CV]  gaussianrandomprojection__n_components=5, ridge__alpha=1000.0, score=0.28361653120963004, total=   0.0s\n",
      "[Parallel(n_jobs=1)]: Done  35 out of  35 | elapsed:    0.2s remaining:    0.0s\n",
      "[CV] gaussianrandomprojection__n_components=170, ridge__alpha=0.001 ..\n",
      "[CV]  gaussianrandomprojection__n_components=170, ridge__alpha=0.001, score=0.5296409326758171, total=   0.0s\n",
      "[Parallel(n_jobs=1)]: Done  36 out of  36 | elapsed:    0.3s remaining:    0.0s\n",
      "[CV] gaussianrandomprojection__n_components=170, ridge__alpha=0.001 ..\n"
     ]
    },
    {
     "name": "stderr",
     "output_type": "stream",
     "text": [
      "C:\\Users\\Omistaja\\Anaconda3\\lib\\site-packages\\sklearn\\random_projection.py:378: DataDimensionalityWarning: The number of components is higher than the number of features: n_features < n_components (8 < 170).The dimensionality of the problem will not be reduced.\n",
      "  DataDimensionalityWarning)\n",
      "C:\\Users\\Omistaja\\Anaconda3\\lib\\site-packages\\sklearn\\random_projection.py:378: DataDimensionalityWarning: The number of components is higher than the number of features: n_features < n_components (8 < 170).The dimensionality of the problem will not be reduced.\n",
      "  DataDimensionalityWarning)\n",
      "C:\\Users\\Omistaja\\Anaconda3\\lib\\site-packages\\sklearn\\random_projection.py:378: DataDimensionalityWarning: The number of components is higher than the number of features: n_features < n_components (8 < 170).The dimensionality of the problem will not be reduced.\n",
      "  DataDimensionalityWarning)\n",
      "C:\\Users\\Omistaja\\Anaconda3\\lib\\site-packages\\sklearn\\random_projection.py:378: DataDimensionalityWarning: The number of components is higher than the number of features: n_features < n_components (8 < 170).The dimensionality of the problem will not be reduced.\n",
      "  DataDimensionalityWarning)\n"
     ]
    },
    {
     "name": "stdout",
     "output_type": "stream",
     "text": [
      "[CV]  gaussianrandomprojection__n_components=170, ridge__alpha=0.001, score=0.5716172751713888, total=   0.0s\n",
      "[Parallel(n_jobs=1)]: Done  37 out of  37 | elapsed:    0.3s remaining:    0.0s\n",
      "[CV] gaussianrandomprojection__n_components=170, ridge__alpha=0.001 ..\n",
      "[CV]  gaussianrandomprojection__n_components=170, ridge__alpha=0.001, score=0.5507524010961987, total=   0.0s\n",
      "[Parallel(n_jobs=1)]: Done  38 out of  38 | elapsed:    0.4s remaining:    0.0s\n",
      "[CV] gaussianrandomprojection__n_components=170, ridge__alpha=0.001 ..\n",
      "[CV]  gaussianrandomprojection__n_components=170, ridge__alpha=0.001, score=-0.8865392284404678, total=   0.0s\n",
      "[Parallel(n_jobs=1)]: Done  39 out of  39 | elapsed:    0.4s remaining:    0.0s\n",
      "[CV] gaussianrandomprojection__n_components=170, ridge__alpha=0.001 ..\n",
      "[CV]  gaussianrandomprojection__n_components=170, ridge__alpha=0.001, score=0.5310214252761289, total=   0.0s\n",
      "[Parallel(n_jobs=1)]: Done  40 out of  40 | elapsed:    0.5s remaining:    0.0s\n",
      "[CV] gaussianrandomprojection__n_components=170, ridge__alpha=0.01 ...\n",
      "[CV]  gaussianrandomprojection__n_components=170, ridge__alpha=0.01, score=0.5303456978901089, total=   0.0s\n",
      "[Parallel(n_jobs=1)]: Done  41 out of  41 | elapsed:    0.5s remaining:    0.0s\n",
      "[CV] gaussianrandomprojection__n_components=170, ridge__alpha=0.01 ..."
     ]
    },
    {
     "name": "stderr",
     "output_type": "stream",
     "text": [
      "C:\\Users\\Omistaja\\Anaconda3\\lib\\site-packages\\sklearn\\random_projection.py:378: DataDimensionalityWarning: The number of components is higher than the number of features: n_features < n_components (8 < 170).The dimensionality of the problem will not be reduced.\n",
      "  DataDimensionalityWarning)\n",
      "C:\\Users\\Omistaja\\Anaconda3\\lib\\site-packages\\sklearn\\random_projection.py:378: DataDimensionalityWarning: The number of components is higher than the number of features: n_features < n_components (8 < 170).The dimensionality of the problem will not be reduced.\n",
      "  DataDimensionalityWarning)\n",
      "C:\\Users\\Omistaja\\Anaconda3\\lib\\site-packages\\sklearn\\random_projection.py:378: DataDimensionalityWarning: The number of components is higher than the number of features: n_features < n_components (8 < 170).The dimensionality of the problem will not be reduced.\n",
      "  DataDimensionalityWarning)\n",
      "C:\\Users\\Omistaja\\Anaconda3\\lib\\site-packages\\sklearn\\random_projection.py:378: DataDimensionalityWarning: The number of components is higher than the number of features: n_features < n_components (8 < 170).The dimensionality of the problem will not be reduced.\n",
      "  DataDimensionalityWarning)\n"
     ]
    },
    {
     "name": "stdout",
     "output_type": "stream",
     "text": [
      "\n",
      "[CV]  gaussianrandomprojection__n_components=170, ridge__alpha=0.01, score=0.5629328523194541, total=   0.0s\n",
      "[Parallel(n_jobs=1)]: Done  42 out of  42 | elapsed:    0.6s remaining:    0.0s\n",
      "[CV] gaussianrandomprojection__n_components=170, ridge__alpha=0.01 ...\n",
      "[CV]  gaussianrandomprojection__n_components=170, ridge__alpha=0.01, score=0.5552166135248247, total=   0.0s\n",
      "[Parallel(n_jobs=1)]: Done  43 out of  43 | elapsed:    0.6s remaining:    0.0s\n",
      "[CV] gaussianrandomprojection__n_components=170, ridge__alpha=0.01 ...\n",
      "[CV]  gaussianrandomprojection__n_components=170, ridge__alpha=0.01, score=0.5465787758468788, total=   0.0s\n",
      "[Parallel(n_jobs=1)]: Done  44 out of  44 | elapsed:    0.7s remaining:    0.0s\n",
      "[CV] gaussianrandomprojection__n_components=170, ridge__alpha=0.01 ...\n"
     ]
    },
    {
     "name": "stderr",
     "output_type": "stream",
     "text": [
      "C:\\Users\\Omistaja\\Anaconda3\\lib\\site-packages\\sklearn\\random_projection.py:378: DataDimensionalityWarning: The number of components is higher than the number of features: n_features < n_components (8 < 170).The dimensionality of the problem will not be reduced.\n",
      "  DataDimensionalityWarning)\n",
      "C:\\Users\\Omistaja\\Anaconda3\\lib\\site-packages\\sklearn\\random_projection.py:378: DataDimensionalityWarning: The number of components is higher than the number of features: n_features < n_components (8 < 170).The dimensionality of the problem will not be reduced.\n",
      "  DataDimensionalityWarning)\n",
      "C:\\Users\\Omistaja\\Anaconda3\\lib\\site-packages\\sklearn\\random_projection.py:378: DataDimensionalityWarning: The number of components is higher than the number of features: n_features < n_components (8 < 170).The dimensionality of the problem will not be reduced.\n",
      "  DataDimensionalityWarning)\n"
     ]
    },
    {
     "name": "stdout",
     "output_type": "stream",
     "text": [
      "[CV]  gaussianrandomprojection__n_components=170, ridge__alpha=0.01, score=0.551718538383509, total=   0.0s\n",
      "[Parallel(n_jobs=1)]: Done  45 out of  45 | elapsed:    0.8s remaining:    0.0s\n",
      "[CV] gaussianrandomprojection__n_components=170, ridge__alpha=0.1 ....\n",
      "[CV]  gaussianrandomprojection__n_components=170, ridge__alpha=0.1, score=0.5223965098276824, total=   0.0s\n",
      "[Parallel(n_jobs=1)]: Done  46 out of  46 | elapsed:    0.9s remaining:    0.0s\n",
      "[CV] gaussianrandomprojection__n_components=170, ridge__alpha=0.1 ....\n",
      "[CV]  gaussianrandomprojection__n_components=170, ridge__alpha=0.1, score=0.5807726465730289, total=   0.0s\n",
      "[Parallel(n_jobs=1)]: Done  47 out of  47 | elapsed:    0.9s remaining:    0.0s\n",
      "[CV] gaussianrandomprojection__n_components=170, ridge__alpha=0.1 ....\n",
      "[CV]  gaussianrandomprojection__n_components=170, ridge__alpha=0.1, score=0.5518998761116567, total=   0.0s"
     ]
    },
    {
     "name": "stderr",
     "output_type": "stream",
     "text": [
      "C:\\Users\\Omistaja\\Anaconda3\\lib\\site-packages\\sklearn\\random_projection.py:378: DataDimensionalityWarning: The number of components is higher than the number of features: n_features < n_components (8 < 170).The dimensionality of the problem will not be reduced.\n",
      "  DataDimensionalityWarning)\n",
      "C:\\Users\\Omistaja\\Anaconda3\\lib\\site-packages\\sklearn\\random_projection.py:378: DataDimensionalityWarning: The number of components is higher than the number of features: n_features < n_components (8 < 170).The dimensionality of the problem will not be reduced.\n",
      "  DataDimensionalityWarning)\n",
      "C:\\Users\\Omistaja\\Anaconda3\\lib\\site-packages\\sklearn\\random_projection.py:378: DataDimensionalityWarning: The number of components is higher than the number of features: n_features < n_components (8 < 170).The dimensionality of the problem will not be reduced.\n",
      "  DataDimensionalityWarning)\n"
     ]
    },
    {
     "name": "stdout",
     "output_type": "stream",
     "text": [
      "\n",
      "[Parallel(n_jobs=1)]: Done  48 out of  48 | elapsed:    1.0s remaining:    0.0s\n",
      "[CV] gaussianrandomprojection__n_components=170, ridge__alpha=0.1 ....\n",
      "[CV]  gaussianrandomprojection__n_components=170, ridge__alpha=0.1, score=0.5457758948035616, total=   0.0s\n",
      "[Parallel(n_jobs=1)]: Done  49 out of  49 | elapsed:    1.1s remaining:    0.0s\n",
      "[CV] gaussianrandomprojection__n_components=170, ridge__alpha=0.1 ....\n",
      "[CV]  gaussianrandomprojection__n_components=170, ridge__alpha=0.1, score=0.5523605783968754, total=   0.0s\n",
      "[Parallel(n_jobs=1)]: Done  50 out of  50 | elapsed:    1.1s remaining:    0.0s\n",
      "[CV] gaussianrandomprojection__n_components=170, ridge__alpha=1.0 ....\n",
      "[CV]  gaussianrandomprojection__n_components=170, ridge__alpha=1.0, score=0.506589393335752, total=   0.0s\n",
      "[Parallel(n_jobs=1)]: Done  51 out of  51 | elapsed:    1.2s remaining:    0.0s\n"
     ]
    },
    {
     "name": "stderr",
     "output_type": "stream",
     "text": [
      "C:\\Users\\Omistaja\\Anaconda3\\lib\\site-packages\\sklearn\\random_projection.py:378: DataDimensionalityWarning: The number of components is higher than the number of features: n_features < n_components (8 < 170).The dimensionality of the problem will not be reduced.\n",
      "  DataDimensionalityWarning)\n",
      "C:\\Users\\Omistaja\\Anaconda3\\lib\\site-packages\\sklearn\\random_projection.py:378: DataDimensionalityWarning: The number of components is higher than the number of features: n_features < n_components (8 < 170).The dimensionality of the problem will not be reduced.\n",
      "  DataDimensionalityWarning)\n",
      "C:\\Users\\Omistaja\\Anaconda3\\lib\\site-packages\\sklearn\\random_projection.py:378: DataDimensionalityWarning: The number of components is higher than the number of features: n_features < n_components (8 < 170).The dimensionality of the problem will not be reduced.\n",
      "  DataDimensionalityWarning)\n",
      "C:\\Users\\Omistaja\\Anaconda3\\lib\\site-packages\\sklearn\\random_projection.py:378: DataDimensionalityWarning: The number of components is higher than the number of features: n_features < n_components (8 < 170).The dimensionality of the problem will not be reduced.\n",
      "  DataDimensionalityWarning)\n"
     ]
    },
    {
     "name": "stdout",
     "output_type": "stream",
     "text": [
      "[CV] gaussianrandomprojection__n_components=170, ridge__alpha=1.0 ....\n",
      "[CV]  gaussianrandomprojection__n_components=170, ridge__alpha=1.0, score=0.5755894224717233, total=   0.0s\n",
      "[Parallel(n_jobs=1)]: Done  52 out of  52 | elapsed:    1.2s remaining:    0.0s\n",
      "[CV] gaussianrandomprojection__n_components=170, ridge__alpha=1.0 ....\n",
      "[CV]  gaussianrandomprojection__n_components=170, ridge__alpha=1.0, score=0.5426004885845359, total=   0.0s\n",
      "[Parallel(n_jobs=1)]: Done  53 out of  53 | elapsed:    1.3s remaining:    0.0s\n",
      "[CV] gaussianrandomprojection__n_components=170, ridge__alpha=1.0 ....\n",
      "[CV]  gaussianrandomprojection__n_components=170, ridge__alpha=1.0, score=0.5490659844247776, total=   0.0s\n",
      "[Parallel(n_jobs=1)]: Done  54 out of  54 | elapsed:    1.3s remaining:    0.0s\n",
      "[CV] gaussianrandomprojection__n_components=170, ridge__alpha=1.0 ....\n"
     ]
    },
    {
     "name": "stderr",
     "output_type": "stream",
     "text": [
      "C:\\Users\\Omistaja\\Anaconda3\\lib\\site-packages\\sklearn\\random_projection.py:378: DataDimensionalityWarning: The number of components is higher than the number of features: n_features < n_components (8 < 170).The dimensionality of the problem will not be reduced.\n",
      "  DataDimensionalityWarning)\n",
      "C:\\Users\\Omistaja\\Anaconda3\\lib\\site-packages\\sklearn\\random_projection.py:378: DataDimensionalityWarning: The number of components is higher than the number of features: n_features < n_components (8 < 170).The dimensionality of the problem will not be reduced.\n",
      "  DataDimensionalityWarning)\n",
      "C:\\Users\\Omistaja\\Anaconda3\\lib\\site-packages\\sklearn\\random_projection.py:378: DataDimensionalityWarning: The number of components is higher than the number of features: n_features < n_components (8 < 170).The dimensionality of the problem will not be reduced.\n",
      "  DataDimensionalityWarning)\n",
      "C:\\Users\\Omistaja\\Anaconda3\\lib\\site-packages\\sklearn\\random_projection.py:378: DataDimensionalityWarning: The number of components is higher than the number of features: n_features < n_components (8 < 170).The dimensionality of the problem will not be reduced.\n",
      "  DataDimensionalityWarning)\n"
     ]
    },
    {
     "name": "stdout",
     "output_type": "stream",
     "text": [
      "[CV]  gaussianrandomprojection__n_components=170, ridge__alpha=1.0, score=0.5485706114339038, total=   0.0s\n",
      "[Parallel(n_jobs=1)]: Done  55 out of  55 | elapsed:    1.4s remaining:    0.0s\n",
      "[CV] gaussianrandomprojection__n_components=170, ridge__alpha=10.0 ...\n",
      "[CV]  gaussianrandomprojection__n_components=170, ridge__alpha=10.0, score=0.485138251710954, total=   0.0s\n",
      "[Parallel(n_jobs=1)]: Done  56 out of  56 | elapsed:    1.5s remaining:    0.0s\n",
      "[CV] gaussianrandomprojection__n_components=170, ridge__alpha=10.0 ...\n",
      "[CV]  gaussianrandomprojection__n_components=170, ridge__alpha=10.0, score=0.5721421731484229, total=   0.0s\n",
      "[Parallel(n_jobs=1)]: Done  57 out of  57 | elapsed:    1.5s remaining:    0.0s\n",
      "[CV] gaussianrandomprojection__n_components=170, ridge__alpha=10.0 ...\n",
      "[CV]  gaussianrandomprojection__n_components=170, ridge__alpha=10.0, score=0.5371886020256174, total=   0.0s\n",
      "[Parallel(n_jobs=1)]: Done  58 out of  58 | elapsed:    1.6s remaining:    0.0s\n",
      "[CV] gaussianrandomprojection__n_components=170, ridge__alpha=10.0 ...\n"
     ]
    },
    {
     "name": "stderr",
     "output_type": "stream",
     "text": [
      "C:\\Users\\Omistaja\\Anaconda3\\lib\\site-packages\\sklearn\\random_projection.py:378: DataDimensionalityWarning: The number of components is higher than the number of features: n_features < n_components (8 < 170).The dimensionality of the problem will not be reduced.\n",
      "  DataDimensionalityWarning)\n",
      "C:\\Users\\Omistaja\\Anaconda3\\lib\\site-packages\\sklearn\\random_projection.py:378: DataDimensionalityWarning: The number of components is higher than the number of features: n_features < n_components (8 < 170).The dimensionality of the problem will not be reduced.\n",
      "  DataDimensionalityWarning)\n",
      "C:\\Users\\Omistaja\\Anaconda3\\lib\\site-packages\\sklearn\\random_projection.py:378: DataDimensionalityWarning: The number of components is higher than the number of features: n_features < n_components (8 < 170).The dimensionality of the problem will not be reduced.\n",
      "  DataDimensionalityWarning)\n",
      "C:\\Users\\Omistaja\\Anaconda3\\lib\\site-packages\\sklearn\\random_projection.py:378: DataDimensionalityWarning: The number of components is higher than the number of features: n_features < n_components (8 < 170).The dimensionality of the problem will not be reduced.\n",
      "  DataDimensionalityWarning)\n"
     ]
    },
    {
     "name": "stdout",
     "output_type": "stream",
     "text": [
      "[CV]  gaussianrandomprojection__n_components=170, ridge__alpha=10.0, score=0.5318933686648519, total=   0.0s\n",
      "[Parallel(n_jobs=1)]: Done  59 out of  59 | elapsed:    1.6s remaining:    0.0s\n",
      "[CV] gaussianrandomprojection__n_components=170, ridge__alpha=10.0 ...\n",
      "[CV]  gaussianrandomprojection__n_components=170, ridge__alpha=10.0, score=0.5400261657118264, total=   0.0s\n",
      "[Parallel(n_jobs=1)]: Done  60 out of  60 | elapsed:    1.7s remaining:    0.0s\n",
      "[CV] gaussianrandomprojection__n_components=170, ridge__alpha=100.0 ..\n",
      "[CV]  gaussianrandomprojection__n_components=170, ridge__alpha=100.0, score=0.4541502885418789, total=   0.0s\n",
      "[Parallel(n_jobs=1)]: Done  61 out of  61 | elapsed:    1.7s remaining:    0.0s\n",
      "[CV] gaussianrandomprojection__n_components=170, ridge__alpha=100.0 ..\n",
      "[CV]  gaussianrandomprojection__n_components=170, ridge__alpha=100.0, score=0.5322736191283626, total=   0.0s\n",
      "[Parallel(n_jobs=1)]: Done  62 out of  62 | elapsed:    1.7s remaining:    0.0s\n",
      "[CV] gaussianrandomprojection__n_components=170, ridge__alpha=100.0 ..\n",
      "[CV]  gaussianrandomprojection__n_components=170, ridge__alpha=100.0, score=0.514813671528602, total=   0.0s\n",
      "[Parallel(n_jobs=1)]: Done  63 out of  63 | elapsed:    1.8s remaining:    0.0s\n",
      "[CV] gaussianrandomprojection__n_components=170, ridge__alpha=100.0 ..\n"
     ]
    },
    {
     "name": "stderr",
     "output_type": "stream",
     "text": [
      "C:\\Users\\Omistaja\\Anaconda3\\lib\\site-packages\\sklearn\\random_projection.py:378: DataDimensionalityWarning: The number of components is higher than the number of features: n_features < n_components (8 < 170).The dimensionality of the problem will not be reduced.\n",
      "  DataDimensionalityWarning)\n",
      "C:\\Users\\Omistaja\\Anaconda3\\lib\\site-packages\\sklearn\\random_projection.py:378: DataDimensionalityWarning: The number of components is higher than the number of features: n_features < n_components (8 < 170).The dimensionality of the problem will not be reduced.\n",
      "  DataDimensionalityWarning)\n",
      "C:\\Users\\Omistaja\\Anaconda3\\lib\\site-packages\\sklearn\\random_projection.py:378: DataDimensionalityWarning: The number of components is higher than the number of features: n_features < n_components (8 < 170).The dimensionality of the problem will not be reduced.\n",
      "  DataDimensionalityWarning)\n",
      "C:\\Users\\Omistaja\\Anaconda3\\lib\\site-packages\\sklearn\\random_projection.py:378: DataDimensionalityWarning: The number of components is higher than the number of features: n_features < n_components (8 < 170).The dimensionality of the problem will not be reduced.\n",
      "  DataDimensionalityWarning)\n",
      "C:\\Users\\Omistaja\\Anaconda3\\lib\\site-packages\\sklearn\\random_projection.py:378: DataDimensionalityWarning: The number of components is higher than the number of features: n_features < n_components (8 < 170).The dimensionality of the problem will not be reduced.\n",
      "  DataDimensionalityWarning)\n"
     ]
    },
    {
     "name": "stdout",
     "output_type": "stream",
     "text": [
      "[CV]  gaussianrandomprojection__n_components=170, ridge__alpha=100.0, score=0.4963297130294456, total=   0.0s\n",
      "[Parallel(n_jobs=1)]: Done  64 out of  64 | elapsed:    1.8s remaining:    0.0s\n",
      "[CV] gaussianrandomprojection__n_components=170, ridge__alpha=100.0 ..\n",
      "[CV]  gaussianrandomprojection__n_components=170, ridge__alpha=100.0, score=0.5128460400819455, total=   0.0s\n",
      "[Parallel(n_jobs=1)]: Done  65 out of  65 | elapsed:    1.9s remaining:    0.0s\n",
      "[CV] gaussianrandomprojection__n_components=170, ridge__alpha=1000.0 .\n",
      "[CV]  gaussianrandomprojection__n_components=170, ridge__alpha=1000.0, score=0.34867924395181904, total=   0.0s\n",
      "[Parallel(n_jobs=1)]: Done  66 out of  66 | elapsed:    1.9s remaining:    0.0s\n",
      "[CV] gaussianrandomprojection__n_components=170, ridge__alpha=1000.0 .\n",
      "[CV]  gaussianrandomprojection__n_components=170, ridge__alpha=1000.0, score=0.43071201037536566, total=   0.0s\n",
      "[Parallel(n_jobs=1)]: Done  67 out of  67 | elapsed:    2.0s remaining:    0.0s\n",
      "[CV] gaussianrandomprojection__n_components=170, ridge__alpha=1000.0 .\n",
      "[CV]  gaussianrandomprojection__n_components=170, ridge__alpha=1000.0, score=0.40870305296379084, total=   0.0s\n",
      "[Parallel(n_jobs=1)]: Done  68 out of  68 | elapsed:    2.0s remaining:    0.0s\n",
      "[CV] gaussianrandomprojection__n_components=170, ridge__alpha=1000.0 ."
     ]
    },
    {
     "name": "stderr",
     "output_type": "stream",
     "text": [
      "C:\\Users\\Omistaja\\Anaconda3\\lib\\site-packages\\sklearn\\random_projection.py:378: DataDimensionalityWarning: The number of components is higher than the number of features: n_features < n_components (8 < 170).The dimensionality of the problem will not be reduced.\n",
      "  DataDimensionalityWarning)\n",
      "C:\\Users\\Omistaja\\Anaconda3\\lib\\site-packages\\sklearn\\random_projection.py:378: DataDimensionalityWarning: The number of components is higher than the number of features: n_features < n_components (8 < 170).The dimensionality of the problem will not be reduced.\n",
      "  DataDimensionalityWarning)\n",
      "C:\\Users\\Omistaja\\Anaconda3\\lib\\site-packages\\sklearn\\random_projection.py:378: DataDimensionalityWarning: The number of components is higher than the number of features: n_features < n_components (8 < 170).The dimensionality of the problem will not be reduced.\n",
      "  DataDimensionalityWarning)\n",
      "C:\\Users\\Omistaja\\Anaconda3\\lib\\site-packages\\sklearn\\random_projection.py:378: DataDimensionalityWarning: The number of components is higher than the number of features: n_features < n_components (8 < 170).The dimensionality of the problem will not be reduced.\n",
      "  DataDimensionalityWarning)\n"
     ]
    },
    {
     "name": "stdout",
     "output_type": "stream",
     "text": [
      "\n",
      "[CV]  gaussianrandomprojection__n_components=170, ridge__alpha=1000.0, score=0.3925396234378998, total=   0.0s\n",
      "[Parallel(n_jobs=1)]: Done  69 out of  69 | elapsed:    2.1s remaining:    0.0s\n",
      "[CV] gaussianrandomprojection__n_components=170, ridge__alpha=1000.0 .\n",
      "[CV]  gaussianrandomprojection__n_components=170, ridge__alpha=1000.0, score=0.40214290011430076, total=   0.0s\n",
      "[Parallel(n_jobs=1)]: Done  70 out of  70 | elapsed:    2.1s remaining:    0.0s\n",
      "[CV] gaussianrandomprojection__n_components=336, ridge__alpha=0.001 ..\n",
      "[CV]  gaussianrandomprojection__n_components=336, ridge__alpha=0.001, score=0.52757351559147, total=   0.0s\n",
      "[Parallel(n_jobs=1)]: Done  71 out of  71 | elapsed:    2.2s remaining:    0.0s\n",
      "[CV] gaussianrandomprojection__n_components=336, ridge__alpha=0.001 ..\n"
     ]
    },
    {
     "name": "stderr",
     "output_type": "stream",
     "text": [
      "C:\\Users\\Omistaja\\Anaconda3\\lib\\site-packages\\sklearn\\random_projection.py:378: DataDimensionalityWarning: The number of components is higher than the number of features: n_features < n_components (8 < 336).The dimensionality of the problem will not be reduced.\n",
      "  DataDimensionalityWarning)\n",
      "C:\\Users\\Omistaja\\Anaconda3\\lib\\site-packages\\sklearn\\random_projection.py:378: DataDimensionalityWarning: The number of components is higher than the number of features: n_features < n_components (8 < 336).The dimensionality of the problem will not be reduced.\n",
      "  DataDimensionalityWarning)\n"
     ]
    },
    {
     "name": "stdout",
     "output_type": "stream",
     "text": [
      "[CV]  gaussianrandomprojection__n_components=336, ridge__alpha=0.001, score=0.5514870676592827, total=   0.0s\n",
      "[Parallel(n_jobs=1)]: Done  72 out of  72 | elapsed:    2.3s remaining:    0.0s\n",
      "[CV] gaussianrandomprojection__n_components=336, ridge__alpha=0.001 ..\n",
      "[CV]  gaussianrandomprojection__n_components=336, ridge__alpha=0.001, score=0.5506451748126782, total=   0.0s\n",
      "[Parallel(n_jobs=1)]: Done  73 out of  73 | elapsed:    2.4s remaining:    0.0s\n",
      "[CV] gaussianrandomprojection__n_components=336, ridge__alpha=0.001 ..\n",
      "[CV]  gaussianrandomprojection__n_components=336, ridge__alpha=0.001, score=-0.9584265028056489, total=   0.0s\n",
      "[Parallel(n_jobs=1)]: Done  74 out of  74 | elapsed:    2.5s remaining:    0.0s\n",
      "[CV] gaussianrandomprojection__n_components=336, ridge__alpha=0.001 .."
     ]
    },
    {
     "name": "stderr",
     "output_type": "stream",
     "text": [
      "C:\\Users\\Omistaja\\Anaconda3\\lib\\site-packages\\sklearn\\random_projection.py:378: DataDimensionalityWarning: The number of components is higher than the number of features: n_features < n_components (8 < 336).The dimensionality of the problem will not be reduced.\n",
      "  DataDimensionalityWarning)\n",
      "C:\\Users\\Omistaja\\Anaconda3\\lib\\site-packages\\sklearn\\random_projection.py:378: DataDimensionalityWarning: The number of components is higher than the number of features: n_features < n_components (8 < 336).The dimensionality of the problem will not be reduced.\n",
      "  DataDimensionalityWarning)\n",
      "C:\\Users\\Omistaja\\Anaconda3\\lib\\site-packages\\sklearn\\random_projection.py:378: DataDimensionalityWarning: The number of components is higher than the number of features: n_features < n_components (8 < 336).The dimensionality of the problem will not be reduced.\n",
      "  DataDimensionalityWarning)\n"
     ]
    },
    {
     "name": "stdout",
     "output_type": "stream",
     "text": [
      "\n",
      "[CV]  gaussianrandomprojection__n_components=336, ridge__alpha=0.001, score=0.5447346387011829, total=   0.0s\n",
      "[Parallel(n_jobs=1)]: Done  75 out of  75 | elapsed:    2.6s remaining:    0.0s\n",
      "[CV] gaussianrandomprojection__n_components=336, ridge__alpha=0.01 ...\n",
      "[CV]  gaussianrandomprojection__n_components=336, ridge__alpha=0.01, score=0.5276083115195315, total=   0.0s\n",
      "[Parallel(n_jobs=1)]: Done  76 out of  76 | elapsed:    2.7s remaining:    0.0s\n",
      "[CV] gaussianrandomprojection__n_components=336, ridge__alpha=0.01 ...\n",
      "[CV]  gaussianrandomprojection__n_components=336, ridge__alpha=0.01, score=0.5789054327551104, total=   0.0s\n",
      "[Parallel(n_jobs=1)]: Done  77 out of  77 | elapsed:    2.8s remaining:    0.0s\n",
      "[CV] gaussianrandomprojection__n_components=336, ridge__alpha=0.01 ...\n"
     ]
    },
    {
     "name": "stderr",
     "output_type": "stream",
     "text": [
      "C:\\Users\\Omistaja\\Anaconda3\\lib\\site-packages\\sklearn\\random_projection.py:378: DataDimensionalityWarning: The number of components is higher than the number of features: n_features < n_components (8 < 336).The dimensionality of the problem will not be reduced.\n",
      "  DataDimensionalityWarning)\n",
      "C:\\Users\\Omistaja\\Anaconda3\\lib\\site-packages\\sklearn\\random_projection.py:378: DataDimensionalityWarning: The number of components is higher than the number of features: n_features < n_components (8 < 336).The dimensionality of the problem will not be reduced.\n",
      "  DataDimensionalityWarning)\n",
      "C:\\Users\\Omistaja\\Anaconda3\\lib\\site-packages\\sklearn\\random_projection.py:378: DataDimensionalityWarning: The number of components is higher than the number of features: n_features < n_components (8 < 336).The dimensionality of the problem will not be reduced.\n",
      "  DataDimensionalityWarning)\n",
      "C:\\Users\\Omistaja\\Anaconda3\\lib\\site-packages\\sklearn\\random_projection.py:378: DataDimensionalityWarning: The number of components is higher than the number of features: n_features < n_components (8 < 336).The dimensionality of the problem will not be reduced.\n",
      "  DataDimensionalityWarning)\n",
      "C:\\Users\\Omistaja\\Anaconda3\\lib\\site-packages\\sklearn\\random_projection.py:378: DataDimensionalityWarning: The number of components is higher than the number of features: n_features < n_components (8 < 336).The dimensionality of the problem will not be reduced.\n",
      "  DataDimensionalityWarning)\n"
     ]
    },
    {
     "name": "stdout",
     "output_type": "stream",
     "text": [
      "[CV]  gaussianrandomprojection__n_components=336, ridge__alpha=0.01, score=0.5518285939129619, total=   0.0s\n",
      "[Parallel(n_jobs=1)]: Done  78 out of  78 | elapsed:    2.9s remaining:    0.0s\n",
      "[CV] gaussianrandomprojection__n_components=336, ridge__alpha=0.01 ...\n",
      "[CV]  gaussianrandomprojection__n_components=336, ridge__alpha=0.01, score=0.33734108492402043, total=   0.0s\n",
      "[Parallel(n_jobs=1)]: Done  79 out of  79 | elapsed:    2.9s remaining:    0.0s\n",
      "[CV] gaussianrandomprojection__n_components=336, ridge__alpha=0.01 ...\n",
      "[CV]  gaussianrandomprojection__n_components=336, ridge__alpha=0.01, score=0.5525055379968746, total=   0.0s\n",
      "[Parallel(n_jobs=1)]: Done  80 out of  80 | elapsed:    3.0s remaining:    0.0s\n",
      "[CV] gaussianrandomprojection__n_components=336, ridge__alpha=0.1 ....\n"
     ]
    },
    {
     "name": "stderr",
     "output_type": "stream",
     "text": [
      "C:\\Users\\Omistaja\\Anaconda3\\lib\\site-packages\\sklearn\\random_projection.py:378: DataDimensionalityWarning: The number of components is higher than the number of features: n_features < n_components (8 < 336).The dimensionality of the problem will not be reduced.\n",
      "  DataDimensionalityWarning)\n",
      "C:\\Users\\Omistaja\\Anaconda3\\lib\\site-packages\\sklearn\\random_projection.py:378: DataDimensionalityWarning: The number of components is higher than the number of features: n_features < n_components (8 < 336).The dimensionality of the problem will not be reduced.\n",
      "  DataDimensionalityWarning)\n"
     ]
    },
    {
     "name": "stdout",
     "output_type": "stream",
     "text": [
      "[CV]  gaussianrandomprojection__n_components=336, ridge__alpha=0.1, score=0.5193594782696287, total=   0.0s\n",
      "[Parallel(n_jobs=1)]: Done  81 out of  81 | elapsed:    3.1s remaining:    0.0s\n",
      "[CV] gaussianrandomprojection__n_components=336, ridge__alpha=0.1 ....\n",
      "[CV]  gaussianrandomprojection__n_components=336, ridge__alpha=0.1, score=0.5793019733570091, total=   0.0s\n",
      "[Parallel(n_jobs=1)]: Done  82 out of  82 | elapsed:    3.2s remaining:    0.0s\n",
      "[CV] gaussianrandomprojection__n_components=336, ridge__alpha=0.1 ....\n",
      "[CV]  gaussianrandomprojection__n_components=336, ridge__alpha=0.1, score=0.5473609192097146, total=   0.0s\n",
      "[Parallel(n_jobs=1)]: Done  83 out of  83 | elapsed:    3.3s remaining:    0.0s\n",
      "[CV] gaussianrandomprojection__n_components=336, ridge__alpha=0.1 ...."
     ]
    },
    {
     "name": "stderr",
     "output_type": "stream",
     "text": [
      "C:\\Users\\Omistaja\\Anaconda3\\lib\\site-packages\\sklearn\\random_projection.py:378: DataDimensionalityWarning: The number of components is higher than the number of features: n_features < n_components (8 < 336).The dimensionality of the problem will not be reduced.\n",
      "  DataDimensionalityWarning)\n",
      "C:\\Users\\Omistaja\\Anaconda3\\lib\\site-packages\\sklearn\\random_projection.py:378: DataDimensionalityWarning: The number of components is higher than the number of features: n_features < n_components (8 < 336).The dimensionality of the problem will not be reduced.\n",
      "  DataDimensionalityWarning)\n",
      "C:\\Users\\Omistaja\\Anaconda3\\lib\\site-packages\\sklearn\\random_projection.py:378: DataDimensionalityWarning: The number of components is higher than the number of features: n_features < n_components (8 < 336).The dimensionality of the problem will not be reduced.\n",
      "  DataDimensionalityWarning)\n"
     ]
    },
    {
     "name": "stdout",
     "output_type": "stream",
     "text": [
      "\n",
      "[CV]  gaussianrandomprojection__n_components=336, ridge__alpha=0.1, score=0.5231901068387128, total=   0.0s\n",
      "[Parallel(n_jobs=1)]: Done  84 out of  84 | elapsed:    3.4s remaining:    0.0s\n",
      "[CV] gaussianrandomprojection__n_components=336, ridge__alpha=0.1 ....\n",
      "[CV]  gaussianrandomprojection__n_components=336, ridge__alpha=0.1, score=0.550518132493691, total=   0.0s\n",
      "[Parallel(n_jobs=1)]: Done  85 out of  85 | elapsed:    3.5s remaining:    0.0s\n",
      "[CV] gaussianrandomprojection__n_components=336, ridge__alpha=1.0 ....\n",
      "[CV]  gaussianrandomprojection__n_components=336, ridge__alpha=1.0, score=0.4976710132815203, total=   0.0s\n",
      "[Parallel(n_jobs=1)]: Done  86 out of  86 | elapsed:    3.6s remaining:    0.0s\n",
      "[CV] gaussianrandomprojection__n_components=336, ridge__alpha=1.0 ....\n"
     ]
    },
    {
     "name": "stderr",
     "output_type": "stream",
     "text": [
      "C:\\Users\\Omistaja\\Anaconda3\\lib\\site-packages\\sklearn\\random_projection.py:378: DataDimensionalityWarning: The number of components is higher than the number of features: n_features < n_components (8 < 336).The dimensionality of the problem will not be reduced.\n",
      "  DataDimensionalityWarning)\n",
      "C:\\Users\\Omistaja\\Anaconda3\\lib\\site-packages\\sklearn\\random_projection.py:378: DataDimensionalityWarning: The number of components is higher than the number of features: n_features < n_components (8 < 336).The dimensionality of the problem will not be reduced.\n",
      "  DataDimensionalityWarning)\n"
     ]
    },
    {
     "name": "stdout",
     "output_type": "stream",
     "text": [
      "[CV]  gaussianrandomprojection__n_components=336, ridge__alpha=1.0, score=0.5759891094342038, total=   0.0s\n",
      "[Parallel(n_jobs=1)]: Done  87 out of  87 | elapsed:    3.7s remaining:    0.0s\n",
      "[CV] gaussianrandomprojection__n_components=336, ridge__alpha=1.0 ....\n",
      "[CV]  gaussianrandomprojection__n_components=336, ridge__alpha=1.0, score=0.538424594973153, total=   0.0s\n",
      "[Parallel(n_jobs=1)]: Done  88 out of  88 | elapsed:    3.8s remaining:    0.0s\n",
      "[CV] gaussianrandomprojection__n_components=336, ridge__alpha=1.0 ....\n",
      "[CV]  gaussianrandomprojection__n_components=336, ridge__alpha=1.0, score=0.5421429959774309, total=   0.0s\n"
     ]
    },
    {
     "name": "stderr",
     "output_type": "stream",
     "text": [
      "C:\\Users\\Omistaja\\Anaconda3\\lib\\site-packages\\sklearn\\random_projection.py:378: DataDimensionalityWarning: The number of components is higher than the number of features: n_features < n_components (8 < 336).The dimensionality of the problem will not be reduced.\n",
      "  DataDimensionalityWarning)\n",
      "C:\\Users\\Omistaja\\Anaconda3\\lib\\site-packages\\sklearn\\random_projection.py:378: DataDimensionalityWarning: The number of components is higher than the number of features: n_features < n_components (8 < 336).The dimensionality of the problem will not be reduced.\n",
      "  DataDimensionalityWarning)\n",
      "C:\\Users\\Omistaja\\Anaconda3\\lib\\site-packages\\sklearn\\random_projection.py:378: DataDimensionalityWarning: The number of components is higher than the number of features: n_features < n_components (8 < 336).The dimensionality of the problem will not be reduced.\n",
      "  DataDimensionalityWarning)\n"
     ]
    },
    {
     "name": "stdout",
     "output_type": "stream",
     "text": [
      "[Parallel(n_jobs=1)]: Done  89 out of  89 | elapsed:    3.8s remaining:    0.0s\n",
      "[CV] gaussianrandomprojection__n_components=336, ridge__alpha=1.0 ....\n",
      "[CV]  gaussianrandomprojection__n_components=336, ridge__alpha=1.0, score=0.5476037656017636, total=   0.0s\n",
      "[Parallel(n_jobs=1)]: Done  90 out of  90 | elapsed:    3.9s remaining:    0.0s\n",
      "[CV] gaussianrandomprojection__n_components=336, ridge__alpha=10.0 ...\n",
      "[CV]  gaussianrandomprojection__n_components=336, ridge__alpha=10.0, score=0.484850450454737, total=   0.0s\n",
      "[Parallel(n_jobs=1)]: Done  91 out of  91 | elapsed:    4.0s remaining:    0.0s\n",
      "[CV] gaussianrandomprojection__n_components=336, ridge__alpha=10.0 ...\n"
     ]
    },
    {
     "name": "stderr",
     "output_type": "stream",
     "text": [
      "C:\\Users\\Omistaja\\Anaconda3\\lib\\site-packages\\sklearn\\random_projection.py:378: DataDimensionalityWarning: The number of components is higher than the number of features: n_features < n_components (8 < 336).The dimensionality of the problem will not be reduced.\n",
      "  DataDimensionalityWarning)\n",
      "C:\\Users\\Omistaja\\Anaconda3\\lib\\site-packages\\sklearn\\random_projection.py:378: DataDimensionalityWarning: The number of components is higher than the number of features: n_features < n_components (8 < 336).The dimensionality of the problem will not be reduced.\n",
      "  DataDimensionalityWarning)\n",
      "C:\\Users\\Omistaja\\Anaconda3\\lib\\site-packages\\sklearn\\random_projection.py:378: DataDimensionalityWarning: The number of components is higher than the number of features: n_features < n_components (8 < 336).The dimensionality of the problem will not be reduced.\n",
      "  DataDimensionalityWarning)\n"
     ]
    },
    {
     "name": "stdout",
     "output_type": "stream",
     "text": [
      "[CV]  gaussianrandomprojection__n_components=336, ridge__alpha=10.0, score=0.5698238853242896, total=   0.0s\n",
      "[Parallel(n_jobs=1)]: Done  92 out of  92 | elapsed:    4.1s remaining:    0.0s\n",
      "[CV] gaussianrandomprojection__n_components=336, ridge__alpha=10.0 ...\n",
      "[CV]  gaussianrandomprojection__n_components=336, ridge__alpha=10.0, score=0.5326157609188593, total=   0.0s\n",
      "[Parallel(n_jobs=1)]: Done  93 out of  93 | elapsed:    4.2s remaining:    0.0s\n",
      "[CV] gaussianrandomprojection__n_components=336, ridge__alpha=10.0 ...\n",
      "[CV]  gaussianrandomprojection__n_components=336, ridge__alpha=10.0, score=0.5275253460020235, total=   0.0s\n",
      "[Parallel(n_jobs=1)]: Done  94 out of  94 | elapsed:    4.3s remaining:    0.0s\n",
      "[CV] gaussianrandomprojection__n_components=336, ridge__alpha=10.0 ...\n"
     ]
    },
    {
     "name": "stderr",
     "output_type": "stream",
     "text": [
      "C:\\Users\\Omistaja\\Anaconda3\\lib\\site-packages\\sklearn\\random_projection.py:378: DataDimensionalityWarning: The number of components is higher than the number of features: n_features < n_components (8 < 336).The dimensionality of the problem will not be reduced.\n",
      "  DataDimensionalityWarning)\n",
      "C:\\Users\\Omistaja\\Anaconda3\\lib\\site-packages\\sklearn\\random_projection.py:378: DataDimensionalityWarning: The number of components is higher than the number of features: n_features < n_components (8 < 336).The dimensionality of the problem will not be reduced.\n",
      "  DataDimensionalityWarning)\n"
     ]
    },
    {
     "name": "stdout",
     "output_type": "stream",
     "text": [
      "[CV]  gaussianrandomprojection__n_components=336, ridge__alpha=10.0, score=0.5375888299606819, total=   0.0s\n",
      "[Parallel(n_jobs=1)]: Done  95 out of  95 | elapsed:    4.4s remaining:    0.0s\n",
      "[CV] gaussianrandomprojection__n_components=336, ridge__alpha=100.0 ..\n",
      "[CV]  gaussianrandomprojection__n_components=336, ridge__alpha=100.0, score=0.453332217054223, total=   0.0s\n",
      "[Parallel(n_jobs=1)]: Done  96 out of  96 | elapsed:    4.5s remaining:    0.0s\n",
      "[CV] gaussianrandomprojection__n_components=336, ridge__alpha=100.0 ..\n",
      "[CV]  gaussianrandomprojection__n_components=336, ridge__alpha=100.0, score=0.539536537640244, total=   0.0s\n",
      "[Parallel(n_jobs=1)]: Done  97 out of  97 | elapsed:    4.6s remaining:    0.0s\n",
      "[CV] gaussianrandomprojection__n_components=336, ridge__alpha=100.0 ..\n"
     ]
    },
    {
     "name": "stderr",
     "output_type": "stream",
     "text": [
      "C:\\Users\\Omistaja\\Anaconda3\\lib\\site-packages\\sklearn\\random_projection.py:378: DataDimensionalityWarning: The number of components is higher than the number of features: n_features < n_components (8 < 336).The dimensionality of the problem will not be reduced.\n",
      "  DataDimensionalityWarning)\n",
      "C:\\Users\\Omistaja\\Anaconda3\\lib\\site-packages\\sklearn\\random_projection.py:378: DataDimensionalityWarning: The number of components is higher than the number of features: n_features < n_components (8 < 336).The dimensionality of the problem will not be reduced.\n",
      "  DataDimensionalityWarning)\n",
      "C:\\Users\\Omistaja\\Anaconda3\\lib\\site-packages\\sklearn\\random_projection.py:378: DataDimensionalityWarning: The number of components is higher than the number of features: n_features < n_components (8 < 336).The dimensionality of the problem will not be reduced.\n",
      "  DataDimensionalityWarning)\n"
     ]
    },
    {
     "name": "stdout",
     "output_type": "stream",
     "text": [
      "[CV]  gaussianrandomprojection__n_components=336, ridge__alpha=100.0, score=0.5150454981390531, total=   0.0s\n",
      "[Parallel(n_jobs=1)]: Done  98 out of  98 | elapsed:    4.6s remaining:    0.0s\n",
      "[CV] gaussianrandomprojection__n_components=336, ridge__alpha=100.0 ..\n",
      "[CV]  gaussianrandomprojection__n_components=336, ridge__alpha=100.0, score=0.4905243604143751, total=   0.0s\n",
      "[CV] gaussianrandomprojection__n_components=336, ridge__alpha=100.0 ..\n",
      "[CV]  gaussianrandomprojection__n_components=336, ridge__alpha=100.0, score=0.512004047417792, total=   0.0s\n",
      "[CV] gaussianrandomprojection__n_components=336, ridge__alpha=1000.0 .\n"
     ]
    },
    {
     "name": "stderr",
     "output_type": "stream",
     "text": [
      "C:\\Users\\Omistaja\\Anaconda3\\lib\\site-packages\\sklearn\\random_projection.py:378: DataDimensionalityWarning: The number of components is higher than the number of features: n_features < n_components (8 < 336).The dimensionality of the problem will not be reduced.\n",
      "  DataDimensionalityWarning)\n",
      "C:\\Users\\Omistaja\\Anaconda3\\lib\\site-packages\\sklearn\\random_projection.py:378: DataDimensionalityWarning: The number of components is higher than the number of features: n_features < n_components (8 < 336).The dimensionality of the problem will not be reduced.\n",
      "  DataDimensionalityWarning)\n",
      "C:\\Users\\Omistaja\\Anaconda3\\lib\\site-packages\\sklearn\\random_projection.py:378: DataDimensionalityWarning: The number of components is higher than the number of features: n_features < n_components (8 < 336).The dimensionality of the problem will not be reduced.\n",
      "  DataDimensionalityWarning)\n",
      "C:\\Users\\Omistaja\\Anaconda3\\lib\\site-packages\\sklearn\\random_projection.py:378: DataDimensionalityWarning: The number of components is higher than the number of features: n_features < n_components (8 < 336).The dimensionality of the problem will not be reduced.\n",
      "  DataDimensionalityWarning)\n",
      "C:\\Users\\Omistaja\\Anaconda3\\lib\\site-packages\\sklearn\\random_projection.py:378: DataDimensionalityWarning: The number of components is higher than the number of features: n_features < n_components (8 < 336).The dimensionality of the problem will not be reduced.\n",
      "  DataDimensionalityWarning)\n"
     ]
    },
    {
     "name": "stdout",
     "output_type": "stream",
     "text": [
      "[CV]  gaussianrandomprojection__n_components=336, ridge__alpha=1000.0, score=0.3511151860833924, total=   0.0s\n",
      "[CV] gaussianrandomprojection__n_components=336, ridge__alpha=1000.0 .\n",
      "[CV]  gaussianrandomprojection__n_components=336, ridge__alpha=1000.0, score=0.42653169569688393, total=   0.0s\n",
      "[CV] gaussianrandomprojection__n_components=336, ridge__alpha=1000.0 .\n",
      "[CV]  gaussianrandomprojection__n_components=336, ridge__alpha=1000.0, score=0.4124858299801501, total=   0.0s\n",
      "[CV] gaussianrandomprojection__n_components=336, ridge__alpha=1000.0 .\n"
     ]
    },
    {
     "name": "stderr",
     "output_type": "stream",
     "text": [
      "C:\\Users\\Omistaja\\Anaconda3\\lib\\site-packages\\sklearn\\random_projection.py:378: DataDimensionalityWarning: The number of components is higher than the number of features: n_features < n_components (8 < 336).The dimensionality of the problem will not be reduced.\n",
      "  DataDimensionalityWarning)\n",
      "C:\\Users\\Omistaja\\Anaconda3\\lib\\site-packages\\sklearn\\random_projection.py:378: DataDimensionalityWarning: The number of components is higher than the number of features: n_features < n_components (8 < 336).The dimensionality of the problem will not be reduced.\n",
      "  DataDimensionalityWarning)\n",
      "C:\\Users\\Omistaja\\Anaconda3\\lib\\site-packages\\sklearn\\random_projection.py:378: DataDimensionalityWarning: The number of components is higher than the number of features: n_features < n_components (8 < 502).The dimensionality of the problem will not be reduced.\n",
      "  DataDimensionalityWarning)\n"
     ]
    },
    {
     "name": "stdout",
     "output_type": "stream",
     "text": [
      "[CV]  gaussianrandomprojection__n_components=336, ridge__alpha=1000.0, score=0.40129405353908143, total=   0.0s\n",
      "[CV] gaussianrandomprojection__n_components=336, ridge__alpha=1000.0 .\n",
      "[CV]  gaussianrandomprojection__n_components=336, ridge__alpha=1000.0, score=0.39746400055952985, total=   0.0s\n",
      "[CV] gaussianrandomprojection__n_components=502, ridge__alpha=0.001 ..\n",
      "[CV]  gaussianrandomprojection__n_components=502, ridge__alpha=0.001, score=0.5279458480971831, total=   0.0s\n",
      "[CV] gaussianrandomprojection__n_components=502, ridge__alpha=0.001 ..\n",
      "[CV]  gaussianrandomprojection__n_components=502, ridge__alpha=0.001, score=0.5808057000012328, total=   0.0s\n",
      "[CV] gaussianrandomprojection__n_components=502, ridge__alpha=0.001 ..\n"
     ]
    },
    {
     "name": "stderr",
     "output_type": "stream",
     "text": [
      "C:\\Users\\Omistaja\\Anaconda3\\lib\\site-packages\\sklearn\\random_projection.py:378: DataDimensionalityWarning: The number of components is higher than the number of features: n_features < n_components (8 < 502).The dimensionality of the problem will not be reduced.\n",
      "  DataDimensionalityWarning)\n",
      "C:\\Users\\Omistaja\\Anaconda3\\lib\\site-packages\\sklearn\\random_projection.py:378: DataDimensionalityWarning: The number of components is higher than the number of features: n_features < n_components (8 < 502).The dimensionality of the problem will not be reduced.\n",
      "  DataDimensionalityWarning)\n"
     ]
    },
    {
     "name": "stdout",
     "output_type": "stream",
     "text": [
      "[CV]  gaussianrandomprojection__n_components=502, ridge__alpha=0.001, score=0.551762200981775, total=   0.0s\n",
      "[CV] gaussianrandomprojection__n_components=502, ridge__alpha=0.001 ..\n",
      "[CV]  gaussianrandomprojection__n_components=502, ridge__alpha=0.001, score=-0.7917867048686817, total=   0.0s\n",
      "[CV] gaussianrandomprojection__n_components=502, ridge__alpha=0.001 .."
     ]
    },
    {
     "name": "stderr",
     "output_type": "stream",
     "text": [
      "C:\\Users\\Omistaja\\Anaconda3\\lib\\site-packages\\sklearn\\random_projection.py:378: DataDimensionalityWarning: The number of components is higher than the number of features: n_features < n_components (8 < 502).The dimensionality of the problem will not be reduced.\n",
      "  DataDimensionalityWarning)\n",
      "C:\\Users\\Omistaja\\Anaconda3\\lib\\site-packages\\sklearn\\random_projection.py:378: DataDimensionalityWarning: The number of components is higher than the number of features: n_features < n_components (8 < 502).The dimensionality of the problem will not be reduced.\n",
      "  DataDimensionalityWarning)\n",
      "C:\\Users\\Omistaja\\Anaconda3\\lib\\site-packages\\sklearn\\random_projection.py:378: DataDimensionalityWarning: The number of components is higher than the number of features: n_features < n_components (8 < 502).The dimensionality of the problem will not be reduced.\n",
      "  DataDimensionalityWarning)\n"
     ]
    },
    {
     "name": "stdout",
     "output_type": "stream",
     "text": [
      "\n",
      "[CV]  gaussianrandomprojection__n_components=502, ridge__alpha=0.001, score=0.5490604513516099, total=   0.0s\n",
      "[CV] gaussianrandomprojection__n_components=502, ridge__alpha=0.01 ...\n",
      "[CV]  gaussianrandomprojection__n_components=502, ridge__alpha=0.01, score=0.5231570253202823, total=   0.0s\n",
      "[CV] gaussianrandomprojection__n_components=502, ridge__alpha=0.01 ...\n"
     ]
    },
    {
     "name": "stderr",
     "output_type": "stream",
     "text": [
      "C:\\Users\\Omistaja\\Anaconda3\\lib\\site-packages\\sklearn\\random_projection.py:378: DataDimensionalityWarning: The number of components is higher than the number of features: n_features < n_components (8 < 502).The dimensionality of the problem will not be reduced.\n",
      "  DataDimensionalityWarning)\n"
     ]
    },
    {
     "name": "stdout",
     "output_type": "stream",
     "text": [
      "[CV]  gaussianrandomprojection__n_components=502, ridge__alpha=0.01, score=0.5804447598292626, total=   0.1s\n",
      "[CV] gaussianrandomprojection__n_components=502, ridge__alpha=0.01 ...\n",
      "[CV]  gaussianrandomprojection__n_components=502, ridge__alpha=0.01, score=0.5518881189411324, total=   0.1s\n",
      "[CV] gaussianrandomprojection__n_components=502, ridge__alpha=0.01 ..."
     ]
    },
    {
     "name": "stderr",
     "output_type": "stream",
     "text": [
      "C:\\Users\\Omistaja\\Anaconda3\\lib\\site-packages\\sklearn\\random_projection.py:378: DataDimensionalityWarning: The number of components is higher than the number of features: n_features < n_components (8 < 502).The dimensionality of the problem will not be reduced.\n",
      "  DataDimensionalityWarning)\n",
      "C:\\Users\\Omistaja\\Anaconda3\\lib\\site-packages\\sklearn\\random_projection.py:378: DataDimensionalityWarning: The number of components is higher than the number of features: n_features < n_components (8 < 502).The dimensionality of the problem will not be reduced.\n",
      "  DataDimensionalityWarning)\n",
      "C:\\Users\\Omistaja\\Anaconda3\\lib\\site-packages\\sklearn\\random_projection.py:378: DataDimensionalityWarning: The number of components is higher than the number of features: n_features < n_components (8 < 502).The dimensionality of the problem will not be reduced.\n",
      "  DataDimensionalityWarning)\n"
     ]
    },
    {
     "name": "stdout",
     "output_type": "stream",
     "text": [
      "\n",
      "[CV]  gaussianrandomprojection__n_components=502, ridge__alpha=0.01, score=0.18186220992376445, total=   0.0s\n",
      "[CV] gaussianrandomprojection__n_components=502, ridge__alpha=0.01 ...\n",
      "[CV]  gaussianrandomprojection__n_components=502, ridge__alpha=0.01, score=0.5513387717276634, total=   0.0s\n",
      "[CV] gaussianrandomprojection__n_components=502, ridge__alpha=0.1 ...."
     ]
    },
    {
     "name": "stderr",
     "output_type": "stream",
     "text": [
      "C:\\Users\\Omistaja\\Anaconda3\\lib\\site-packages\\sklearn\\random_projection.py:378: DataDimensionalityWarning: The number of components is higher than the number of features: n_features < n_components (8 < 502).The dimensionality of the problem will not be reduced.\n",
      "  DataDimensionalityWarning)\n",
      "C:\\Users\\Omistaja\\Anaconda3\\lib\\site-packages\\sklearn\\random_projection.py:378: DataDimensionalityWarning: The number of components is higher than the number of features: n_features < n_components (8 < 502).The dimensionality of the problem will not be reduced.\n",
      "  DataDimensionalityWarning)\n"
     ]
    },
    {
     "name": "stdout",
     "output_type": "stream",
     "text": [
      "\n",
      "[CV]  gaussianrandomprojection__n_components=502, ridge__alpha=0.1, score=0.5102079012693923, total=   0.0s\n",
      "[CV] gaussianrandomprojection__n_components=502, ridge__alpha=0.1 ....\n",
      "[CV]  gaussianrandomprojection__n_components=502, ridge__alpha=0.1, score=0.5776183782373576, total=   0.0s\n",
      "[CV] gaussianrandomprojection__n_components=502, ridge__alpha=0.1 ...."
     ]
    },
    {
     "name": "stderr",
     "output_type": "stream",
     "text": [
      "C:\\Users\\Omistaja\\Anaconda3\\lib\\site-packages\\sklearn\\random_projection.py:378: DataDimensionalityWarning: The number of components is higher than the number of features: n_features < n_components (8 < 502).The dimensionality of the problem will not be reduced.\n",
      "  DataDimensionalityWarning)\n",
      "C:\\Users\\Omistaja\\Anaconda3\\lib\\site-packages\\sklearn\\random_projection.py:378: DataDimensionalityWarning: The number of components is higher than the number of features: n_features < n_components (8 < 502).The dimensionality of the problem will not be reduced.\n",
      "  DataDimensionalityWarning)\n"
     ]
    },
    {
     "name": "stdout",
     "output_type": "stream",
     "text": [
      "\n",
      "[CV]  gaussianrandomprojection__n_components=502, ridge__alpha=0.1, score=0.5465132346823502, total=   0.0s\n",
      "[CV] gaussianrandomprojection__n_components=502, ridge__alpha=0.1 ....\n",
      "[CV]  gaussianrandomprojection__n_components=502, ridge__alpha=0.1, score=0.5479420045365994, total=   0.1s\n",
      "[CV] gaussianrandomprojection__n_components=502, ridge__alpha=0.1 ...."
     ]
    },
    {
     "name": "stderr",
     "output_type": "stream",
     "text": [
      "C:\\Users\\Omistaja\\Anaconda3\\lib\\site-packages\\sklearn\\random_projection.py:378: DataDimensionalityWarning: The number of components is higher than the number of features: n_features < n_components (8 < 502).The dimensionality of the problem will not be reduced.\n",
      "  DataDimensionalityWarning)\n",
      "C:\\Users\\Omistaja\\Anaconda3\\lib\\site-packages\\sklearn\\random_projection.py:378: DataDimensionalityWarning: The number of components is higher than the number of features: n_features < n_components (8 < 502).The dimensionality of the problem will not be reduced.\n",
      "  DataDimensionalityWarning)\n"
     ]
    },
    {
     "name": "stdout",
     "output_type": "stream",
     "text": [
      "\n",
      "[CV]  gaussianrandomprojection__n_components=502, ridge__alpha=0.1, score=0.5513485436628189, total=   0.0s\n",
      "[CV] gaussianrandomprojection__n_components=502, ridge__alpha=1.0 ....\n",
      "[CV]  gaussianrandomprojection__n_components=502, ridge__alpha=1.0, score=0.49298946373452734, total=   0.0s\n",
      "[CV] gaussianrandomprojection__n_components=502, ridge__alpha=1.0 ....\n"
     ]
    },
    {
     "name": "stderr",
     "output_type": "stream",
     "text": [
      "C:\\Users\\Omistaja\\Anaconda3\\lib\\site-packages\\sklearn\\random_projection.py:378: DataDimensionalityWarning: The number of components is higher than the number of features: n_features < n_components (8 < 502).The dimensionality of the problem will not be reduced.\n",
      "  DataDimensionalityWarning)\n"
     ]
    },
    {
     "name": "stdout",
     "output_type": "stream",
     "text": [
      "[CV]  gaussianrandomprojection__n_components=502, ridge__alpha=1.0, score=0.576268409281602, total=   0.1s\n",
      "[CV] gaussianrandomprojection__n_components=502, ridge__alpha=1.0 ....\n",
      "[CV]  gaussianrandomprojection__n_components=502, ridge__alpha=1.0, score=0.5380195873281788, total=   0.0s\n",
      "[CV] gaussianrandomprojection__n_components=502, ridge__alpha=1.0 ....\n"
     ]
    },
    {
     "name": "stderr",
     "output_type": "stream",
     "text": [
      "C:\\Users\\Omistaja\\Anaconda3\\lib\\site-packages\\sklearn\\random_projection.py:378: DataDimensionalityWarning: The number of components is higher than the number of features: n_features < n_components (8 < 502).The dimensionality of the problem will not be reduced.\n",
      "  DataDimensionalityWarning)\n",
      "C:\\Users\\Omistaja\\Anaconda3\\lib\\site-packages\\sklearn\\random_projection.py:378: DataDimensionalityWarning: The number of components is higher than the number of features: n_features < n_components (8 < 502).The dimensionality of the problem will not be reduced.\n",
      "  DataDimensionalityWarning)\n"
     ]
    },
    {
     "name": "stdout",
     "output_type": "stream",
     "text": [
      "[CV]  gaussianrandomprojection__n_components=502, ridge__alpha=1.0, score=0.5419254999093278, total=   0.1s\n",
      "[CV] gaussianrandomprojection__n_components=502, ridge__alpha=1.0 ....\n",
      "[CV]  gaussianrandomprojection__n_components=502, ridge__alpha=1.0, score=0.5420767328605581, total=   0.0s\n",
      "[CV] gaussianrandomprojection__n_components=502, ridge__alpha=10.0 ...\n"
     ]
    },
    {
     "name": "stderr",
     "output_type": "stream",
     "text": [
      "C:\\Users\\Omistaja\\Anaconda3\\lib\\site-packages\\sklearn\\random_projection.py:378: DataDimensionalityWarning: The number of components is higher than the number of features: n_features < n_components (8 < 502).The dimensionality of the problem will not be reduced.\n",
      "  DataDimensionalityWarning)\n",
      "C:\\Users\\Omistaja\\Anaconda3\\lib\\site-packages\\sklearn\\random_projection.py:378: DataDimensionalityWarning: The number of components is higher than the number of features: n_features < n_components (8 < 502).The dimensionality of the problem will not be reduced.\n",
      "  DataDimensionalityWarning)\n"
     ]
    },
    {
     "name": "stdout",
     "output_type": "stream",
     "text": [
      "[CV]  gaussianrandomprojection__n_components=502, ridge__alpha=10.0, score=0.481038196919672, total=   0.0s\n",
      "[CV] gaussianrandomprojection__n_components=502, ridge__alpha=10.0 ...\n",
      "[CV]  gaussianrandomprojection__n_components=502, ridge__alpha=10.0, score=0.5704236045685076, total=   0.0s\n",
      "[CV] gaussianrandomprojection__n_components=502, ridge__alpha=10.0 ...\n"
     ]
    },
    {
     "name": "stderr",
     "output_type": "stream",
     "text": [
      "C:\\Users\\Omistaja\\Anaconda3\\lib\\site-packages\\sklearn\\random_projection.py:378: DataDimensionalityWarning: The number of components is higher than the number of features: n_features < n_components (8 < 502).The dimensionality of the problem will not be reduced.\n",
      "  DataDimensionalityWarning)\n",
      "C:\\Users\\Omistaja\\Anaconda3\\lib\\site-packages\\sklearn\\random_projection.py:378: DataDimensionalityWarning: The number of components is higher than the number of features: n_features < n_components (8 < 502).The dimensionality of the problem will not be reduced.\n",
      "  DataDimensionalityWarning)\n"
     ]
    },
    {
     "name": "stdout",
     "output_type": "stream",
     "text": [
      "[CV]  gaussianrandomprojection__n_components=502, ridge__alpha=10.0, score=0.5316044412773866, total=   0.0s\n",
      "[CV] gaussianrandomprojection__n_components=502, ridge__alpha=10.0 ...\n",
      "[CV]  gaussianrandomprojection__n_components=502, ridge__alpha=10.0, score=0.5171763866439025, total=   0.0s\n",
      "[CV] gaussianrandomprojection__n_components=502, ridge__alpha=10.0 ...\n"
     ]
    },
    {
     "name": "stderr",
     "output_type": "stream",
     "text": [
      "C:\\Users\\Omistaja\\Anaconda3\\lib\\site-packages\\sklearn\\random_projection.py:378: DataDimensionalityWarning: The number of components is higher than the number of features: n_features < n_components (8 < 502).The dimensionality of the problem will not be reduced.\n",
      "  DataDimensionalityWarning)\n",
      "C:\\Users\\Omistaja\\Anaconda3\\lib\\site-packages\\sklearn\\random_projection.py:378: DataDimensionalityWarning: The number of components is higher than the number of features: n_features < n_components (8 < 502).The dimensionality of the problem will not be reduced.\n",
      "  DataDimensionalityWarning)\n"
     ]
    },
    {
     "name": "stdout",
     "output_type": "stream",
     "text": [
      "[CV]  gaussianrandomprojection__n_components=502, ridge__alpha=10.0, score=0.5372980854779345, total=   0.0s\n",
      "[CV] gaussianrandomprojection__n_components=502, ridge__alpha=100.0 ..\n",
      "[CV]  gaussianrandomprojection__n_components=502, ridge__alpha=100.0, score=0.4518997890170431, total=   0.0s\n",
      "[CV] gaussianrandomprojection__n_components=502, ridge__alpha=100.0 ..\n"
     ]
    },
    {
     "name": "stderr",
     "output_type": "stream",
     "text": [
      "C:\\Users\\Omistaja\\Anaconda3\\lib\\site-packages\\sklearn\\random_projection.py:378: DataDimensionalityWarning: The number of components is higher than the number of features: n_features < n_components (8 < 502).The dimensionality of the problem will not be reduced.\n",
      "  DataDimensionalityWarning)\n",
      "C:\\Users\\Omistaja\\Anaconda3\\lib\\site-packages\\sklearn\\random_projection.py:378: DataDimensionalityWarning: The number of components is higher than the number of features: n_features < n_components (8 < 502).The dimensionality of the problem will not be reduced.\n",
      "  DataDimensionalityWarning)\n"
     ]
    },
    {
     "name": "stdout",
     "output_type": "stream",
     "text": [
      "[CV]  gaussianrandomprojection__n_components=502, ridge__alpha=100.0, score=0.5413779436306548, total=   0.1s\n",
      "[CV] gaussianrandomprojection__n_components=502, ridge__alpha=100.0 ..\n",
      "[CV]  gaussianrandomprojection__n_components=502, ridge__alpha=100.0, score=0.516601355855287, total=   0.0s\n",
      "[CV] gaussianrandomprojection__n_components=502, ridge__alpha=100.0 ..\n"
     ]
    },
    {
     "name": "stderr",
     "output_type": "stream",
     "text": [
      "C:\\Users\\Omistaja\\Anaconda3\\lib\\site-packages\\sklearn\\random_projection.py:378: DataDimensionalityWarning: The number of components is higher than the number of features: n_features < n_components (8 < 502).The dimensionality of the problem will not be reduced.\n",
      "  DataDimensionalityWarning)\n",
      "C:\\Users\\Omistaja\\Anaconda3\\lib\\site-packages\\sklearn\\random_projection.py:378: DataDimensionalityWarning: The number of components is higher than the number of features: n_features < n_components (8 < 502).The dimensionality of the problem will not be reduced.\n",
      "  DataDimensionalityWarning)\n"
     ]
    },
    {
     "name": "stdout",
     "output_type": "stream",
     "text": [
      "[CV]  gaussianrandomprojection__n_components=502, ridge__alpha=100.0, score=0.49594406689127923, total=   0.0s\n",
      "[CV] gaussianrandomprojection__n_components=502, ridge__alpha=100.0 ..\n",
      "[CV]  gaussianrandomprojection__n_components=502, ridge__alpha=100.0, score=0.5143155213440331, total=   0.0s\n",
      "[CV] gaussianrandomprojection__n_components=502, ridge__alpha=1000.0 .\n"
     ]
    },
    {
     "name": "stderr",
     "output_type": "stream",
     "text": [
      "C:\\Users\\Omistaja\\Anaconda3\\lib\\site-packages\\sklearn\\random_projection.py:378: DataDimensionalityWarning: The number of components is higher than the number of features: n_features < n_components (8 < 502).The dimensionality of the problem will not be reduced.\n",
      "  DataDimensionalityWarning)\n",
      "C:\\Users\\Omistaja\\Anaconda3\\lib\\site-packages\\sklearn\\random_projection.py:378: DataDimensionalityWarning: The number of components is higher than the number of features: n_features < n_components (8 < 502).The dimensionality of the problem will not be reduced.\n",
      "  DataDimensionalityWarning)\n"
     ]
    },
    {
     "name": "stdout",
     "output_type": "stream",
     "text": [
      "[CV]  gaussianrandomprojection__n_components=502, ridge__alpha=1000.0, score=0.353369592370279, total=   0.0s\n",
      "[CV] gaussianrandomprojection__n_components=502, ridge__alpha=1000.0 .\n",
      "[CV]  gaussianrandomprojection__n_components=502, ridge__alpha=1000.0, score=0.43366412430944845, total=   0.0s\n",
      "[CV] gaussianrandomprojection__n_components=502, ridge__alpha=1000.0 .\n"
     ]
    },
    {
     "name": "stderr",
     "output_type": "stream",
     "text": [
      "C:\\Users\\Omistaja\\Anaconda3\\lib\\site-packages\\sklearn\\random_projection.py:378: DataDimensionalityWarning: The number of components is higher than the number of features: n_features < n_components (8 < 502).The dimensionality of the problem will not be reduced.\n",
      "  DataDimensionalityWarning)\n",
      "C:\\Users\\Omistaja\\Anaconda3\\lib\\site-packages\\sklearn\\random_projection.py:378: DataDimensionalityWarning: The number of components is higher than the number of features: n_features < n_components (8 < 502).The dimensionality of the problem will not be reduced.\n",
      "  DataDimensionalityWarning)\n"
     ]
    },
    {
     "name": "stdout",
     "output_type": "stream",
     "text": [
      "[CV]  gaussianrandomprojection__n_components=502, ridge__alpha=1000.0, score=0.420211566652959, total=   0.0s\n",
      "[CV] gaussianrandomprojection__n_components=502, ridge__alpha=1000.0 .\n",
      "[CV]  gaussianrandomprojection__n_components=502, ridge__alpha=1000.0, score=0.3944428759007778, total=   0.0s\n",
      "[CV] gaussianrandomprojection__n_components=502, ridge__alpha=1000.0 .\n"
     ]
    },
    {
     "name": "stderr",
     "output_type": "stream",
     "text": [
      "C:\\Users\\Omistaja\\Anaconda3\\lib\\site-packages\\sklearn\\random_projection.py:378: DataDimensionalityWarning: The number of components is higher than the number of features: n_features < n_components (8 < 502).The dimensionality of the problem will not be reduced.\n",
      "  DataDimensionalityWarning)\n",
      "C:\\Users\\Omistaja\\Anaconda3\\lib\\site-packages\\sklearn\\random_projection.py:378: DataDimensionalityWarning: The number of components is higher than the number of features: n_features < n_components (8 < 502).The dimensionality of the problem will not be reduced.\n",
      "  DataDimensionalityWarning)\n"
     ]
    },
    {
     "name": "stdout",
     "output_type": "stream",
     "text": [
      "[CV]  gaussianrandomprojection__n_components=502, ridge__alpha=1000.0, score=0.39628361788234, total=   0.0s\n",
      "[CV] gaussianrandomprojection__n_components=668, ridge__alpha=0.001 ..\n"
     ]
    },
    {
     "name": "stderr",
     "output_type": "stream",
     "text": [
      "C:\\Users\\Omistaja\\Anaconda3\\lib\\site-packages\\sklearn\\random_projection.py:378: DataDimensionalityWarning: The number of components is higher than the number of features: n_features < n_components (8 < 668).The dimensionality of the problem will not be reduced.\n",
      "  DataDimensionalityWarning)\n"
     ]
    },
    {
     "name": "stdout",
     "output_type": "stream",
     "text": [
      "[CV]  gaussianrandomprojection__n_components=668, ridge__alpha=0.001, score=0.5248188498229172, total=   0.1s\n",
      "[CV] gaussianrandomprojection__n_components=668, ridge__alpha=0.001 ..\n"
     ]
    },
    {
     "name": "stderr",
     "output_type": "stream",
     "text": [
      "C:\\Users\\Omistaja\\Anaconda3\\lib\\site-packages\\sklearn\\random_projection.py:378: DataDimensionalityWarning: The number of components is higher than the number of features: n_features < n_components (8 < 668).The dimensionality of the problem will not be reduced.\n",
      "  DataDimensionalityWarning)\n"
     ]
    },
    {
     "name": "stdout",
     "output_type": "stream",
     "text": [
      "[CV]  gaussianrandomprojection__n_components=668, ridge__alpha=0.001, score=0.5653982810942038, total=   0.1s\n",
      "[CV] gaussianrandomprojection__n_components=668, ridge__alpha=0.001 ..\n",
      "[CV]  gaussianrandomprojection__n_components=668, ridge__alpha=0.001, score=0.551164679767552, total=   0.0s\n",
      "[CV] gaussianrandomprojection__n_components=668, ridge__alpha=0.001 .."
     ]
    },
    {
     "name": "stderr",
     "output_type": "stream",
     "text": [
      "C:\\Users\\Omistaja\\Anaconda3\\lib\\site-packages\\sklearn\\random_projection.py:378: DataDimensionalityWarning: The number of components is higher than the number of features: n_features < n_components (8 < 668).The dimensionality of the problem will not be reduced.\n",
      "  DataDimensionalityWarning)\n",
      "C:\\Users\\Omistaja\\Anaconda3\\lib\\site-packages\\sklearn\\random_projection.py:378: DataDimensionalityWarning: The number of components is higher than the number of features: n_features < n_components (8 < 668).The dimensionality of the problem will not be reduced.\n",
      "  DataDimensionalityWarning)\n"
     ]
    },
    {
     "name": "stdout",
     "output_type": "stream",
     "text": [
      "\n",
      "[CV]  gaussianrandomprojection__n_components=668, ridge__alpha=0.001, score=0.5565946498174881, total=   0.1s\n",
      "[CV] gaussianrandomprojection__n_components=668, ridge__alpha=0.001 ..\n",
      "[CV]  gaussianrandomprojection__n_components=668, ridge__alpha=0.001, score=0.5467834717297575, total=   0.1s\n",
      "[CV] gaussianrandomprojection__n_components=668, ridge__alpha=0.01 ..."
     ]
    },
    {
     "name": "stderr",
     "output_type": "stream",
     "text": [
      "C:\\Users\\Omistaja\\Anaconda3\\lib\\site-packages\\sklearn\\random_projection.py:378: DataDimensionalityWarning: The number of components is higher than the number of features: n_features < n_components (8 < 668).The dimensionality of the problem will not be reduced.\n",
      "  DataDimensionalityWarning)\n",
      "C:\\Users\\Omistaja\\Anaconda3\\lib\\site-packages\\sklearn\\random_projection.py:378: DataDimensionalityWarning: The number of components is higher than the number of features: n_features < n_components (8 < 668).The dimensionality of the problem will not be reduced.\n",
      "  DataDimensionalityWarning)\n",
      "C:\\Users\\Omistaja\\Anaconda3\\lib\\site-packages\\sklearn\\random_projection.py:378: DataDimensionalityWarning: The number of components is higher than the number of features: n_features < n_components (8 < 668).The dimensionality of the problem will not be reduced.\n",
      "  DataDimensionalityWarning)\n"
     ]
    },
    {
     "name": "stdout",
     "output_type": "stream",
     "text": [
      "\n",
      "[CV]  gaussianrandomprojection__n_components=668, ridge__alpha=0.01, score=0.5217106926801478, total=   0.0s\n",
      "[CV] gaussianrandomprojection__n_components=668, ridge__alpha=0.01 ...\n",
      "[CV]  gaussianrandomprojection__n_components=668, ridge__alpha=0.01, score=0.5795977252099391, total=   0.1s\n",
      "[CV] gaussianrandomprojection__n_components=668, ridge__alpha=0.01 ...\n",
      "[CV]  gaussianrandomprojection__n_components=668, ridge__alpha=0.01, score=0.5547165542463477, total=   0.1s\n",
      "[CV] gaussianrandomprojection__n_components=668, ridge__alpha=0.01 ..."
     ]
    },
    {
     "name": "stderr",
     "output_type": "stream",
     "text": [
      "C:\\Users\\Omistaja\\Anaconda3\\lib\\site-packages\\sklearn\\random_projection.py:378: DataDimensionalityWarning: The number of components is higher than the number of features: n_features < n_components (8 < 668).The dimensionality of the problem will not be reduced.\n",
      "  DataDimensionalityWarning)\n",
      "C:\\Users\\Omistaja\\Anaconda3\\lib\\site-packages\\sklearn\\random_projection.py:378: DataDimensionalityWarning: The number of components is higher than the number of features: n_features < n_components (8 < 668).The dimensionality of the problem will not be reduced.\n",
      "  DataDimensionalityWarning)\n"
     ]
    },
    {
     "name": "stdout",
     "output_type": "stream",
     "text": [
      "\n",
      "[CV]  gaussianrandomprojection__n_components=668, ridge__alpha=0.01, score=0.18136675774040967, total=   0.1s\n",
      "[CV] gaussianrandomprojection__n_components=668, ridge__alpha=0.01 ...\n"
     ]
    },
    {
     "name": "stderr",
     "output_type": "stream",
     "text": [
      "C:\\Users\\Omistaja\\Anaconda3\\lib\\site-packages\\sklearn\\random_projection.py:378: DataDimensionalityWarning: The number of components is higher than the number of features: n_features < n_components (8 < 668).The dimensionality of the problem will not be reduced.\n",
      "  DataDimensionalityWarning)\n"
     ]
    },
    {
     "name": "stdout",
     "output_type": "stream",
     "text": [
      "[CV]  gaussianrandomprojection__n_components=668, ridge__alpha=0.01, score=0.5515110562698933, total=   0.1s\n",
      "[CV] gaussianrandomprojection__n_components=668, ridge__alpha=0.1 ....\n"
     ]
    },
    {
     "name": "stderr",
     "output_type": "stream",
     "text": [
      "C:\\Users\\Omistaja\\Anaconda3\\lib\\site-packages\\sklearn\\random_projection.py:378: DataDimensionalityWarning: The number of components is higher than the number of features: n_features < n_components (8 < 668).The dimensionality of the problem will not be reduced.\n",
      "  DataDimensionalityWarning)\n"
     ]
    },
    {
     "name": "stdout",
     "output_type": "stream",
     "text": [
      "[CV]  gaussianrandomprojection__n_components=668, ridge__alpha=0.1, score=0.5065157423601283, total=   0.1s\n",
      "[CV] gaussianrandomprojection__n_components=668, ridge__alpha=0.1 ....\n"
     ]
    },
    {
     "name": "stderr",
     "output_type": "stream",
     "text": [
      "C:\\Users\\Omistaja\\Anaconda3\\lib\\site-packages\\sklearn\\random_projection.py:378: DataDimensionalityWarning: The number of components is higher than the number of features: n_features < n_components (8 < 668).The dimensionality of the problem will not be reduced.\n",
      "  DataDimensionalityWarning)\n"
     ]
    },
    {
     "name": "stdout",
     "output_type": "stream",
     "text": [
      "[CV]  gaussianrandomprojection__n_components=668, ridge__alpha=0.1, score=0.5721264707645952, total=   0.1s\n",
      "[CV] gaussianrandomprojection__n_components=668, ridge__alpha=0.1 ....\n"
     ]
    },
    {
     "name": "stderr",
     "output_type": "stream",
     "text": [
      "C:\\Users\\Omistaja\\Anaconda3\\lib\\site-packages\\sklearn\\random_projection.py:378: DataDimensionalityWarning: The number of components is higher than the number of features: n_features < n_components (8 < 668).The dimensionality of the problem will not be reduced.\n",
      "  DataDimensionalityWarning)\n"
     ]
    },
    {
     "name": "stdout",
     "output_type": "stream",
     "text": [
      "[CV]  gaussianrandomprojection__n_components=668, ridge__alpha=0.1, score=0.5422429350925115, total=   0.1s\n",
      "[CV] gaussianrandomprojection__n_components=668, ridge__alpha=0.1 ....\n"
     ]
    },
    {
     "name": "stderr",
     "output_type": "stream",
     "text": [
      "C:\\Users\\Omistaja\\Anaconda3\\lib\\site-packages\\sklearn\\random_projection.py:378: DataDimensionalityWarning: The number of components is higher than the number of features: n_features < n_components (8 < 668).The dimensionality of the problem will not be reduced.\n",
      "  DataDimensionalityWarning)\n"
     ]
    },
    {
     "name": "stdout",
     "output_type": "stream",
     "text": [
      "[CV]  gaussianrandomprojection__n_components=668, ridge__alpha=0.1, score=0.5480771765348613, total=   0.1s\n",
      "[CV] gaussianrandomprojection__n_components=668, ridge__alpha=0.1 ....\n"
     ]
    },
    {
     "name": "stderr",
     "output_type": "stream",
     "text": [
      "C:\\Users\\Omistaja\\Anaconda3\\lib\\site-packages\\sklearn\\random_projection.py:378: DataDimensionalityWarning: The number of components is higher than the number of features: n_features < n_components (8 < 668).The dimensionality of the problem will not be reduced.\n",
      "  DataDimensionalityWarning)\n"
     ]
    },
    {
     "name": "stdout",
     "output_type": "stream",
     "text": [
      "[CV]  gaussianrandomprojection__n_components=668, ridge__alpha=0.1, score=0.551154691754847, total=   0.1s\n",
      "[CV] gaussianrandomprojection__n_components=668, ridge__alpha=1.0 ....\n"
     ]
    },
    {
     "name": "stderr",
     "output_type": "stream",
     "text": [
      "C:\\Users\\Omistaja\\Anaconda3\\lib\\site-packages\\sklearn\\random_projection.py:378: DataDimensionalityWarning: The number of components is higher than the number of features: n_features < n_components (8 < 668).The dimensionality of the problem will not be reduced.\n",
      "  DataDimensionalityWarning)\n"
     ]
    },
    {
     "name": "stdout",
     "output_type": "stream",
     "text": [
      "[CV]  gaussianrandomprojection__n_components=668, ridge__alpha=1.0, score=0.4935537096344079, total=   0.1s\n",
      "[CV] gaussianrandomprojection__n_components=668, ridge__alpha=1.0 ....\n"
     ]
    },
    {
     "name": "stderr",
     "output_type": "stream",
     "text": [
      "C:\\Users\\Omistaja\\Anaconda3\\lib\\site-packages\\sklearn\\random_projection.py:378: DataDimensionalityWarning: The number of components is higher than the number of features: n_features < n_components (8 < 668).The dimensionality of the problem will not be reduced.\n",
      "  DataDimensionalityWarning)\n"
     ]
    },
    {
     "name": "stdout",
     "output_type": "stream",
     "text": [
      "[CV]  gaussianrandomprojection__n_components=668, ridge__alpha=1.0, score=0.573380741017526, total=   0.1s\n",
      "[CV] gaussianrandomprojection__n_components=668, ridge__alpha=1.0 ....\n",
      "[CV]  gaussianrandomprojection__n_components=668, ridge__alpha=1.0, score=0.5355818796343199, total=   0.1s\n",
      "[CV] gaussianrandomprojection__n_components=668, ridge__alpha=1.0 ...."
     ]
    },
    {
     "name": "stderr",
     "output_type": "stream",
     "text": [
      "C:\\Users\\Omistaja\\Anaconda3\\lib\\site-packages\\sklearn\\random_projection.py:378: DataDimensionalityWarning: The number of components is higher than the number of features: n_features < n_components (8 < 668).The dimensionality of the problem will not be reduced.\n",
      "  DataDimensionalityWarning)\n",
      "C:\\Users\\Omistaja\\Anaconda3\\lib\\site-packages\\sklearn\\random_projection.py:378: DataDimensionalityWarning: The number of components is higher than the number of features: n_features < n_components (8 < 668).The dimensionality of the problem will not be reduced.\n",
      "  DataDimensionalityWarning)\n"
     ]
    },
    {
     "name": "stdout",
     "output_type": "stream",
     "text": [
      "\n",
      "[CV]  gaussianrandomprojection__n_components=668, ridge__alpha=1.0, score=0.5369224408274869, total=   0.1s\n",
      "[CV] gaussianrandomprojection__n_components=668, ridge__alpha=1.0 ....\n"
     ]
    },
    {
     "name": "stderr",
     "output_type": "stream",
     "text": [
      "C:\\Users\\Omistaja\\Anaconda3\\lib\\site-packages\\sklearn\\random_projection.py:378: DataDimensionalityWarning: The number of components is higher than the number of features: n_features < n_components (8 < 668).The dimensionality of the problem will not be reduced.\n",
      "  DataDimensionalityWarning)\n"
     ]
    },
    {
     "name": "stdout",
     "output_type": "stream",
     "text": [
      "[CV]  gaussianrandomprojection__n_components=668, ridge__alpha=1.0, score=0.5433097734059686, total=   0.1s\n",
      "[CV] gaussianrandomprojection__n_components=668, ridge__alpha=10.0 ...\n",
      "[CV]  gaussianrandomprojection__n_components=668, ridge__alpha=10.0, score=0.4810520808555542, total=   0.0s\n",
      "[CV] gaussianrandomprojection__n_components=668, ridge__alpha=10.0 ..."
     ]
    },
    {
     "name": "stderr",
     "output_type": "stream",
     "text": [
      "C:\\Users\\Omistaja\\Anaconda3\\lib\\site-packages\\sklearn\\random_projection.py:378: DataDimensionalityWarning: The number of components is higher than the number of features: n_features < n_components (8 < 668).The dimensionality of the problem will not be reduced.\n",
      "  DataDimensionalityWarning)\n",
      "C:\\Users\\Omistaja\\Anaconda3\\lib\\site-packages\\sklearn\\random_projection.py:378: DataDimensionalityWarning: The number of components is higher than the number of features: n_features < n_components (8 < 668).The dimensionality of the problem will not be reduced.\n",
      "  DataDimensionalityWarning)\n"
     ]
    },
    {
     "name": "stdout",
     "output_type": "stream",
     "text": [
      "\n",
      "[CV]  gaussianrandomprojection__n_components=668, ridge__alpha=10.0, score=0.5692707777718924, total=   0.0s\n",
      "[CV] gaussianrandomprojection__n_components=668, ridge__alpha=10.0 ...\n"
     ]
    },
    {
     "name": "stderr",
     "output_type": "stream",
     "text": [
      "C:\\Users\\Omistaja\\Anaconda3\\lib\\site-packages\\sklearn\\random_projection.py:378: DataDimensionalityWarning: The number of components is higher than the number of features: n_features < n_components (8 < 668).The dimensionality of the problem will not be reduced.\n",
      "  DataDimensionalityWarning)\n"
     ]
    },
    {
     "name": "stdout",
     "output_type": "stream",
     "text": [
      "[CV]  gaussianrandomprojection__n_components=668, ridge__alpha=10.0, score=0.5304777522735695, total=   0.1s\n",
      "[CV] gaussianrandomprojection__n_components=668, ridge__alpha=10.0 ...\n",
      "[CV]  gaussianrandomprojection__n_components=668, ridge__alpha=10.0, score=0.5180659643982582, total=   0.1s\n",
      "[CV] gaussianrandomprojection__n_components=668, ridge__alpha=10.0 ..."
     ]
    },
    {
     "name": "stderr",
     "output_type": "stream",
     "text": [
      "C:\\Users\\Omistaja\\Anaconda3\\lib\\site-packages\\sklearn\\random_projection.py:378: DataDimensionalityWarning: The number of components is higher than the number of features: n_features < n_components (8 < 668).The dimensionality of the problem will not be reduced.\n",
      "  DataDimensionalityWarning)\n",
      "C:\\Users\\Omistaja\\Anaconda3\\lib\\site-packages\\sklearn\\random_projection.py:378: DataDimensionalityWarning: The number of components is higher than the number of features: n_features < n_components (8 < 668).The dimensionality of the problem will not be reduced.\n",
      "  DataDimensionalityWarning)\n"
     ]
    },
    {
     "name": "stdout",
     "output_type": "stream",
     "text": [
      "\n",
      "[CV]  gaussianrandomprojection__n_components=668, ridge__alpha=10.0, score=0.5375597204188682, total=   0.1s\n",
      "[CV] gaussianrandomprojection__n_components=668, ridge__alpha=100.0 ..\n"
     ]
    },
    {
     "name": "stderr",
     "output_type": "stream",
     "text": [
      "C:\\Users\\Omistaja\\Anaconda3\\lib\\site-packages\\sklearn\\random_projection.py:378: DataDimensionalityWarning: The number of components is higher than the number of features: n_features < n_components (8 < 668).The dimensionality of the problem will not be reduced.\n",
      "  DataDimensionalityWarning)\n"
     ]
    },
    {
     "name": "stdout",
     "output_type": "stream",
     "text": [
      "[CV]  gaussianrandomprojection__n_components=668, ridge__alpha=100.0, score=0.4532804222116175, total=   0.1s\n",
      "[CV] gaussianrandomprojection__n_components=668, ridge__alpha=100.0 ..\n"
     ]
    },
    {
     "name": "stderr",
     "output_type": "stream",
     "text": [
      "C:\\Users\\Omistaja\\Anaconda3\\lib\\site-packages\\sklearn\\random_projection.py:378: DataDimensionalityWarning: The number of components is higher than the number of features: n_features < n_components (8 < 668).The dimensionality of the problem will not be reduced.\n",
      "  DataDimensionalityWarning)\n"
     ]
    },
    {
     "name": "stdout",
     "output_type": "stream",
     "text": [
      "[CV]  gaussianrandomprojection__n_components=668, ridge__alpha=100.0, score=0.5387418584333441, total=   0.1s\n",
      "[CV] gaussianrandomprojection__n_components=668, ridge__alpha=100.0 ..\n"
     ]
    },
    {
     "name": "stderr",
     "output_type": "stream",
     "text": [
      "C:\\Users\\Omistaja\\Anaconda3\\lib\\site-packages\\sklearn\\random_projection.py:378: DataDimensionalityWarning: The number of components is higher than the number of features: n_features < n_components (8 < 668).The dimensionality of the problem will not be reduced.\n",
      "  DataDimensionalityWarning)\n"
     ]
    },
    {
     "name": "stdout",
     "output_type": "stream",
     "text": [
      "[CV]  gaussianrandomprojection__n_components=668, ridge__alpha=100.0, score=0.5154306574362675, total=   0.1s\n",
      "[CV] gaussianrandomprojection__n_components=668, ridge__alpha=100.0 ..\n",
      "[CV]  gaussianrandomprojection__n_components=668, ridge__alpha=100.0, score=0.49063348611404145, total=   0.1s\n",
      "[CV] gaussianrandomprojection__n_components=668, ridge__alpha=100.0 .."
     ]
    },
    {
     "name": "stderr",
     "output_type": "stream",
     "text": [
      "C:\\Users\\Omistaja\\Anaconda3\\lib\\site-packages\\sklearn\\random_projection.py:378: DataDimensionalityWarning: The number of components is higher than the number of features: n_features < n_components (8 < 668).The dimensionality of the problem will not be reduced.\n",
      "  DataDimensionalityWarning)\n",
      "C:\\Users\\Omistaja\\Anaconda3\\lib\\site-packages\\sklearn\\random_projection.py:378: DataDimensionalityWarning: The number of components is higher than the number of features: n_features < n_components (8 < 668).The dimensionality of the problem will not be reduced.\n",
      "  DataDimensionalityWarning)\n"
     ]
    },
    {
     "name": "stdout",
     "output_type": "stream",
     "text": [
      "\n",
      "[CV]  gaussianrandomprojection__n_components=668, ridge__alpha=100.0, score=0.5144039381556783, total=   0.0s\n",
      "[CV] gaussianrandomprojection__n_components=668, ridge__alpha=1000.0 .\n"
     ]
    },
    {
     "name": "stderr",
     "output_type": "stream",
     "text": [
      "C:\\Users\\Omistaja\\Anaconda3\\lib\\site-packages\\sklearn\\random_projection.py:378: DataDimensionalityWarning: The number of components is higher than the number of features: n_features < n_components (8 < 668).The dimensionality of the problem will not be reduced.\n",
      "  DataDimensionalityWarning)\n"
     ]
    },
    {
     "name": "stdout",
     "output_type": "stream",
     "text": [
      "[CV]  gaussianrandomprojection__n_components=668, ridge__alpha=1000.0, score=0.3494051989629407, total=   0.1s\n",
      "[CV] gaussianrandomprojection__n_components=668, ridge__alpha=1000.0 .\n",
      "[CV]  gaussianrandomprojection__n_components=668, ridge__alpha=1000.0, score=0.4330966066699728, total=   0.1s\n",
      "[CV] gaussianrandomprojection__n_components=668, ridge__alpha=1000.0 ."
     ]
    },
    {
     "name": "stderr",
     "output_type": "stream",
     "text": [
      "C:\\Users\\Omistaja\\Anaconda3\\lib\\site-packages\\sklearn\\random_projection.py:378: DataDimensionalityWarning: The number of components is higher than the number of features: n_features < n_components (8 < 668).The dimensionality of the problem will not be reduced.\n",
      "  DataDimensionalityWarning)\n",
      "C:\\Users\\Omistaja\\Anaconda3\\lib\\site-packages\\sklearn\\random_projection.py:378: DataDimensionalityWarning: The number of components is higher than the number of features: n_features < n_components (8 < 668).The dimensionality of the problem will not be reduced.\n",
      "  DataDimensionalityWarning)\n"
     ]
    },
    {
     "name": "stdout",
     "output_type": "stream",
     "text": [
      "\n",
      "[CV]  gaussianrandomprojection__n_components=668, ridge__alpha=1000.0, score=0.4190171371123083, total=   0.0s\n",
      "[CV] gaussianrandomprojection__n_components=668, ridge__alpha=1000.0 .\n"
     ]
    },
    {
     "name": "stderr",
     "output_type": "stream",
     "text": [
      "C:\\Users\\Omistaja\\Anaconda3\\lib\\site-packages\\sklearn\\random_projection.py:378: DataDimensionalityWarning: The number of components is higher than the number of features: n_features < n_components (8 < 668).The dimensionality of the problem will not be reduced.\n",
      "  DataDimensionalityWarning)\n"
     ]
    },
    {
     "name": "stdout",
     "output_type": "stream",
     "text": [
      "[CV]  gaussianrandomprojection__n_components=668, ridge__alpha=1000.0, score=0.3913039316988942, total=   0.1s\n",
      "[CV] gaussianrandomprojection__n_components=668, ridge__alpha=1000.0 .\n",
      "[CV]  gaussianrandomprojection__n_components=668, ridge__alpha=1000.0, score=0.40129842266670807, total=   0.1s\n",
      "[CV] gaussianrandomprojection__n_components=834, ridge__alpha=0.001 .."
     ]
    },
    {
     "name": "stderr",
     "output_type": "stream",
     "text": [
      "C:\\Users\\Omistaja\\Anaconda3\\lib\\site-packages\\sklearn\\random_projection.py:378: DataDimensionalityWarning: The number of components is higher than the number of features: n_features < n_components (8 < 668).The dimensionality of the problem will not be reduced.\n",
      "  DataDimensionalityWarning)\n",
      "C:\\Users\\Omistaja\\Anaconda3\\lib\\site-packages\\sklearn\\random_projection.py:378: DataDimensionalityWarning: The number of components is higher than the number of features: n_features < n_components (8 < 834).The dimensionality of the problem will not be reduced.\n",
      "  DataDimensionalityWarning)\n"
     ]
    },
    {
     "name": "stdout",
     "output_type": "stream",
     "text": [
      "\n",
      "[CV]  gaussianrandomprojection__n_components=834, ridge__alpha=0.001, score=0.5259707107827323, total=   0.1s\n",
      "[CV] gaussianrandomprojection__n_components=834, ridge__alpha=0.001 ..\n"
     ]
    },
    {
     "name": "stderr",
     "output_type": "stream",
     "text": [
      "C:\\Users\\Omistaja\\Anaconda3\\lib\\site-packages\\sklearn\\random_projection.py:378: DataDimensionalityWarning: The number of components is higher than the number of features: n_features < n_components (8 < 834).The dimensionality of the problem will not be reduced.\n",
      "  DataDimensionalityWarning)\n"
     ]
    },
    {
     "name": "stdout",
     "output_type": "stream",
     "text": [
      "[CV]  gaussianrandomprojection__n_components=834, ridge__alpha=0.001, score=0.5418476186089034, total=   0.1s\n",
      "[CV] gaussianrandomprojection__n_components=834, ridge__alpha=0.001 ..\n"
     ]
    },
    {
     "name": "stderr",
     "output_type": "stream",
     "text": [
      "C:\\Users\\Omistaja\\Anaconda3\\lib\\site-packages\\sklearn\\random_projection.py:378: DataDimensionalityWarning: The number of components is higher than the number of features: n_features < n_components (8 < 834).The dimensionality of the problem will not be reduced.\n",
      "  DataDimensionalityWarning)\n"
     ]
    },
    {
     "name": "stdout",
     "output_type": "stream",
     "text": [
      "[CV]  gaussianrandomprojection__n_components=834, ridge__alpha=0.001, score=0.5526957049343326, total=   0.1s\n",
      "[CV] gaussianrandomprojection__n_components=834, ridge__alpha=0.001 ..\n"
     ]
    },
    {
     "name": "stderr",
     "output_type": "stream",
     "text": [
      "C:\\Users\\Omistaja\\Anaconda3\\lib\\site-packages\\sklearn\\random_projection.py:378: DataDimensionalityWarning: The number of components is higher than the number of features: n_features < n_components (8 < 834).The dimensionality of the problem will not be reduced.\n",
      "  DataDimensionalityWarning)\n"
     ]
    },
    {
     "name": "stdout",
     "output_type": "stream",
     "text": [
      "[CV]  gaussianrandomprojection__n_components=834, ridge__alpha=0.001, score=-0.7053421126417797, total=   0.1s\n",
      "[CV] gaussianrandomprojection__n_components=834, ridge__alpha=0.001 ..\n"
     ]
    },
    {
     "name": "stderr",
     "output_type": "stream",
     "text": [
      "C:\\Users\\Omistaja\\Anaconda3\\lib\\site-packages\\sklearn\\random_projection.py:378: DataDimensionalityWarning: The number of components is higher than the number of features: n_features < n_components (8 < 834).The dimensionality of the problem will not be reduced.\n",
      "  DataDimensionalityWarning)\n"
     ]
    },
    {
     "name": "stdout",
     "output_type": "stream",
     "text": [
      "[CV]  gaussianrandomprojection__n_components=834, ridge__alpha=0.001, score=0.5467996207094713, total=   0.1s\n",
      "[CV] gaussianrandomprojection__n_components=834, ridge__alpha=0.01 ...\n"
     ]
    },
    {
     "name": "stderr",
     "output_type": "stream",
     "text": [
      "C:\\Users\\Omistaja\\Anaconda3\\lib\\site-packages\\sklearn\\random_projection.py:378: DataDimensionalityWarning: The number of components is higher than the number of features: n_features < n_components (8 < 834).The dimensionality of the problem will not be reduced.\n",
      "  DataDimensionalityWarning)\n"
     ]
    },
    {
     "name": "stdout",
     "output_type": "stream",
     "text": [
      "[CV]  gaussianrandomprojection__n_components=834, ridge__alpha=0.01, score=0.5177367302613175, total=   0.1s\n",
      "[CV] gaussianrandomprojection__n_components=834, ridge__alpha=0.01 ...\n"
     ]
    },
    {
     "name": "stderr",
     "output_type": "stream",
     "text": [
      "C:\\Users\\Omistaja\\Anaconda3\\lib\\site-packages\\sklearn\\random_projection.py:378: DataDimensionalityWarning: The number of components is higher than the number of features: n_features < n_components (8 < 834).The dimensionality of the problem will not be reduced.\n",
      "  DataDimensionalityWarning)\n"
     ]
    },
    {
     "name": "stdout",
     "output_type": "stream",
     "text": [
      "[CV]  gaussianrandomprojection__n_components=834, ridge__alpha=0.01, score=0.5809718634059079, total=   0.1s\n",
      "[CV] gaussianrandomprojection__n_components=834, ridge__alpha=0.01 ...\n"
     ]
    },
    {
     "name": "stderr",
     "output_type": "stream",
     "text": [
      "C:\\Users\\Omistaja\\Anaconda3\\lib\\site-packages\\sklearn\\random_projection.py:378: DataDimensionalityWarning: The number of components is higher than the number of features: n_features < n_components (8 < 834).The dimensionality of the problem will not be reduced.\n",
      "  DataDimensionalityWarning)\n"
     ]
    },
    {
     "name": "stdout",
     "output_type": "stream",
     "text": [
      "[CV]  gaussianrandomprojection__n_components=834, ridge__alpha=0.01, score=0.5499736913377332, total=   0.1s\n",
      "[CV] gaussianrandomprojection__n_components=834, ridge__alpha=0.01 ...\n"
     ]
    },
    {
     "name": "stderr",
     "output_type": "stream",
     "text": [
      "C:\\Users\\Omistaja\\Anaconda3\\lib\\site-packages\\sklearn\\random_projection.py:378: DataDimensionalityWarning: The number of components is higher than the number of features: n_features < n_components (8 < 834).The dimensionality of the problem will not be reduced.\n",
      "  DataDimensionalityWarning)\n"
     ]
    },
    {
     "name": "stdout",
     "output_type": "stream",
     "text": [
      "[CV]  gaussianrandomprojection__n_components=834, ridge__alpha=0.01, score=0.16667648270621482, total=   0.1s\n",
      "[CV] gaussianrandomprojection__n_components=834, ridge__alpha=0.01 ...\n"
     ]
    },
    {
     "name": "stderr",
     "output_type": "stream",
     "text": [
      "C:\\Users\\Omistaja\\Anaconda3\\lib\\site-packages\\sklearn\\random_projection.py:378: DataDimensionalityWarning: The number of components is higher than the number of features: n_features < n_components (8 < 834).The dimensionality of the problem will not be reduced.\n",
      "  DataDimensionalityWarning)\n"
     ]
    },
    {
     "name": "stdout",
     "output_type": "stream",
     "text": [
      "[CV]  gaussianrandomprojection__n_components=834, ridge__alpha=0.01, score=0.5501293668243599, total=   0.1s\n",
      "[CV] gaussianrandomprojection__n_components=834, ridge__alpha=0.1 ....\n"
     ]
    },
    {
     "name": "stderr",
     "output_type": "stream",
     "text": [
      "C:\\Users\\Omistaja\\Anaconda3\\lib\\site-packages\\sklearn\\random_projection.py:378: DataDimensionalityWarning: The number of components is higher than the number of features: n_features < n_components (8 < 834).The dimensionality of the problem will not be reduced.\n",
      "  DataDimensionalityWarning)\n"
     ]
    },
    {
     "name": "stdout",
     "output_type": "stream",
     "text": [
      "[CV]  gaussianrandomprojection__n_components=834, ridge__alpha=0.1, score=0.5022712142058909, total=   0.1s\n",
      "[CV] gaussianrandomprojection__n_components=834, ridge__alpha=0.1 ....\n"
     ]
    },
    {
     "name": "stderr",
     "output_type": "stream",
     "text": [
      "C:\\Users\\Omistaja\\Anaconda3\\lib\\site-packages\\sklearn\\random_projection.py:378: DataDimensionalityWarning: The number of components is higher than the number of features: n_features < n_components (8 < 834).The dimensionality of the problem will not be reduced.\n",
      "  DataDimensionalityWarning)\n"
     ]
    },
    {
     "name": "stdout",
     "output_type": "stream",
     "text": [
      "[CV]  gaussianrandomprojection__n_components=834, ridge__alpha=0.1, score=0.5769272272524466, total=   0.1s\n",
      "[CV] gaussianrandomprojection__n_components=834, ridge__alpha=0.1 ....\n"
     ]
    },
    {
     "name": "stderr",
     "output_type": "stream",
     "text": [
      "C:\\Users\\Omistaja\\Anaconda3\\lib\\site-packages\\sklearn\\random_projection.py:378: DataDimensionalityWarning: The number of components is higher than the number of features: n_features < n_components (8 < 834).The dimensionality of the problem will not be reduced.\n",
      "  DataDimensionalityWarning)\n"
     ]
    },
    {
     "name": "stdout",
     "output_type": "stream",
     "text": [
      "[CV]  gaussianrandomprojection__n_components=834, ridge__alpha=0.1, score=0.5423208236410546, total=   0.1s\n",
      "[CV] gaussianrandomprojection__n_components=834, ridge__alpha=0.1 ....\n"
     ]
    },
    {
     "name": "stderr",
     "output_type": "stream",
     "text": [
      "C:\\Users\\Omistaja\\Anaconda3\\lib\\site-packages\\sklearn\\random_projection.py:378: DataDimensionalityWarning: The number of components is higher than the number of features: n_features < n_components (8 < 834).The dimensionality of the problem will not be reduced.\n",
      "  DataDimensionalityWarning)\n"
     ]
    },
    {
     "name": "stdout",
     "output_type": "stream",
     "text": [
      "[CV]  gaussianrandomprojection__n_components=834, ridge__alpha=0.1, score=0.5431457161610185, total=   0.1s\n",
      "[CV] gaussianrandomprojection__n_components=834, ridge__alpha=0.1 ....\n"
     ]
    },
    {
     "name": "stderr",
     "output_type": "stream",
     "text": [
      "C:\\Users\\Omistaja\\Anaconda3\\lib\\site-packages\\sklearn\\random_projection.py:378: DataDimensionalityWarning: The number of components is higher than the number of features: n_features < n_components (8 < 834).The dimensionality of the problem will not be reduced.\n",
      "  DataDimensionalityWarning)\n"
     ]
    },
    {
     "name": "stdout",
     "output_type": "stream",
     "text": [
      "[CV]  gaussianrandomprojection__n_components=834, ridge__alpha=0.1, score=0.5465295249763055, total=   0.1s\n",
      "[CV] gaussianrandomprojection__n_components=834, ridge__alpha=1.0 ....\n"
     ]
    },
    {
     "name": "stderr",
     "output_type": "stream",
     "text": [
      "C:\\Users\\Omistaja\\Anaconda3\\lib\\site-packages\\sklearn\\random_projection.py:378: DataDimensionalityWarning: The number of components is higher than the number of features: n_features < n_components (8 < 834).The dimensionality of the problem will not be reduced.\n",
      "  DataDimensionalityWarning)\n"
     ]
    },
    {
     "name": "stdout",
     "output_type": "stream",
     "text": [
      "[CV]  gaussianrandomprojection__n_components=834, ridge__alpha=1.0, score=0.4906873561796843, total=   0.1s\n",
      "[CV] gaussianrandomprojection__n_components=834, ridge__alpha=1.0 ....\n"
     ]
    },
    {
     "name": "stderr",
     "output_type": "stream",
     "text": [
      "C:\\Users\\Omistaja\\Anaconda3\\lib\\site-packages\\sklearn\\random_projection.py:378: DataDimensionalityWarning: The number of components is higher than the number of features: n_features < n_components (8 < 834).The dimensionality of the problem will not be reduced.\n",
      "  DataDimensionalityWarning)\n"
     ]
    },
    {
     "name": "stdout",
     "output_type": "stream",
     "text": [
      "[CV]  gaussianrandomprojection__n_components=834, ridge__alpha=1.0, score=0.5742849924130382, total=   0.1s\n",
      "[CV] gaussianrandomprojection__n_components=834, ridge__alpha=1.0 ....\n"
     ]
    },
    {
     "name": "stderr",
     "output_type": "stream",
     "text": [
      "C:\\Users\\Omistaja\\Anaconda3\\lib\\site-packages\\sklearn\\random_projection.py:378: DataDimensionalityWarning: The number of components is higher than the number of features: n_features < n_components (8 < 834).The dimensionality of the problem will not be reduced.\n",
      "  DataDimensionalityWarning)\n"
     ]
    },
    {
     "name": "stdout",
     "output_type": "stream",
     "text": [
      "[CV]  gaussianrandomprojection__n_components=834, ridge__alpha=1.0, score=0.5338588704351022, total=   0.1s\n",
      "[CV] gaussianrandomprojection__n_components=834, ridge__alpha=1.0 ....\n"
     ]
    },
    {
     "name": "stderr",
     "output_type": "stream",
     "text": [
      "C:\\Users\\Omistaja\\Anaconda3\\lib\\site-packages\\sklearn\\random_projection.py:378: DataDimensionalityWarning: The number of components is higher than the number of features: n_features < n_components (8 < 834).The dimensionality of the problem will not be reduced.\n",
      "  DataDimensionalityWarning)\n"
     ]
    },
    {
     "name": "stdout",
     "output_type": "stream",
     "text": [
      "[CV]  gaussianrandomprojection__n_components=834, ridge__alpha=1.0, score=0.5377116696893933, total=   0.1s\n",
      "[CV] gaussianrandomprojection__n_components=834, ridge__alpha=1.0 ....\n"
     ]
    },
    {
     "name": "stderr",
     "output_type": "stream",
     "text": [
      "C:\\Users\\Omistaja\\Anaconda3\\lib\\site-packages\\sklearn\\random_projection.py:378: DataDimensionalityWarning: The number of components is higher than the number of features: n_features < n_components (8 < 834).The dimensionality of the problem will not be reduced.\n",
      "  DataDimensionalityWarning)\n"
     ]
    },
    {
     "name": "stdout",
     "output_type": "stream",
     "text": [
      "[CV]  gaussianrandomprojection__n_components=834, ridge__alpha=1.0, score=0.5424327807421307, total=   0.1s\n",
      "[CV] gaussianrandomprojection__n_components=834, ridge__alpha=10.0 ...\n"
     ]
    },
    {
     "name": "stderr",
     "output_type": "stream",
     "text": [
      "C:\\Users\\Omistaja\\Anaconda3\\lib\\site-packages\\sklearn\\random_projection.py:378: DataDimensionalityWarning: The number of components is higher than the number of features: n_features < n_components (8 < 834).The dimensionality of the problem will not be reduced.\n",
      "  DataDimensionalityWarning)\n"
     ]
    },
    {
     "name": "stdout",
     "output_type": "stream",
     "text": [
      "[CV]  gaussianrandomprojection__n_components=834, ridge__alpha=10.0, score=0.479451457604671, total=   0.1s\n",
      "[CV] gaussianrandomprojection__n_components=834, ridge__alpha=10.0 ...\n"
     ]
    },
    {
     "name": "stderr",
     "output_type": "stream",
     "text": [
      "C:\\Users\\Omistaja\\Anaconda3\\lib\\site-packages\\sklearn\\random_projection.py:378: DataDimensionalityWarning: The number of components is higher than the number of features: n_features < n_components (8 < 834).The dimensionality of the problem will not be reduced.\n",
      "  DataDimensionalityWarning)\n"
     ]
    },
    {
     "name": "stdout",
     "output_type": "stream",
     "text": [
      "[CV]  gaussianrandomprojection__n_components=834, ridge__alpha=10.0, score=0.5698193478153276, total=   0.1s\n",
      "[CV] gaussianrandomprojection__n_components=834, ridge__alpha=10.0 ...\n"
     ]
    },
    {
     "name": "stderr",
     "output_type": "stream",
     "text": [
      "C:\\Users\\Omistaja\\Anaconda3\\lib\\site-packages\\sklearn\\random_projection.py:378: DataDimensionalityWarning: The number of components is higher than the number of features: n_features < n_components (8 < 834).The dimensionality of the problem will not be reduced.\n",
      "  DataDimensionalityWarning)\n"
     ]
    },
    {
     "name": "stdout",
     "output_type": "stream",
     "text": [
      "[CV]  gaussianrandomprojection__n_components=834, ridge__alpha=10.0, score=0.5301951527738142, total=   0.1s\n",
      "[CV] gaussianrandomprojection__n_components=834, ridge__alpha=10.0 ...\n"
     ]
    },
    {
     "name": "stderr",
     "output_type": "stream",
     "text": [
      "C:\\Users\\Omistaja\\Anaconda3\\lib\\site-packages\\sklearn\\random_projection.py:378: DataDimensionalityWarning: The number of components is higher than the number of features: n_features < n_components (8 < 834).The dimensionality of the problem will not be reduced.\n",
      "  DataDimensionalityWarning)\n"
     ]
    },
    {
     "name": "stdout",
     "output_type": "stream",
     "text": [
      "[CV]  gaussianrandomprojection__n_components=834, ridge__alpha=10.0, score=0.5175426718423328, total=   0.1s\n",
      "[CV] gaussianrandomprojection__n_components=834, ridge__alpha=10.0 ...\n"
     ]
    },
    {
     "name": "stderr",
     "output_type": "stream",
     "text": [
      "C:\\Users\\Omistaja\\Anaconda3\\lib\\site-packages\\sklearn\\random_projection.py:378: DataDimensionalityWarning: The number of components is higher than the number of features: n_features < n_components (8 < 834).The dimensionality of the problem will not be reduced.\n",
      "  DataDimensionalityWarning)\n"
     ]
    },
    {
     "name": "stdout",
     "output_type": "stream",
     "text": [
      "[CV]  gaussianrandomprojection__n_components=834, ridge__alpha=10.0, score=0.5372095129446343, total=   0.1s\n",
      "[CV] gaussianrandomprojection__n_components=834, ridge__alpha=100.0 ..\n"
     ]
    },
    {
     "name": "stderr",
     "output_type": "stream",
     "text": [
      "C:\\Users\\Omistaja\\Anaconda3\\lib\\site-packages\\sklearn\\random_projection.py:378: DataDimensionalityWarning: The number of components is higher than the number of features: n_features < n_components (8 < 834).The dimensionality of the problem will not be reduced.\n",
      "  DataDimensionalityWarning)\n"
     ]
    },
    {
     "name": "stdout",
     "output_type": "stream",
     "text": [
      "[CV]  gaussianrandomprojection__n_components=834, ridge__alpha=100.0, score=0.45063515133234155, total=   0.1s\n",
      "[CV] gaussianrandomprojection__n_components=834, ridge__alpha=100.0 ..\n"
     ]
    },
    {
     "name": "stderr",
     "output_type": "stream",
     "text": [
      "C:\\Users\\Omistaja\\Anaconda3\\lib\\site-packages\\sklearn\\random_projection.py:378: DataDimensionalityWarning: The number of components is higher than the number of features: n_features < n_components (8 < 834).The dimensionality of the problem will not be reduced.\n",
      "  DataDimensionalityWarning)\n"
     ]
    },
    {
     "name": "stdout",
     "output_type": "stream",
     "text": [
      "[CV]  gaussianrandomprojection__n_components=834, ridge__alpha=100.0, score=0.53719673544522, total=   0.1s\n",
      "[CV] gaussianrandomprojection__n_components=834, ridge__alpha=100.0 ..\n"
     ]
    },
    {
     "name": "stderr",
     "output_type": "stream",
     "text": [
      "C:\\Users\\Omistaja\\Anaconda3\\lib\\site-packages\\sklearn\\random_projection.py:378: DataDimensionalityWarning: The number of components is higher than the number of features: n_features < n_components (8 < 834).The dimensionality of the problem will not be reduced.\n",
      "  DataDimensionalityWarning)\n"
     ]
    },
    {
     "name": "stdout",
     "output_type": "stream",
     "text": [
      "[CV]  gaussianrandomprojection__n_components=834, ridge__alpha=100.0, score=0.5148521331515077, total=   0.2s\n",
      "[CV] gaussianrandomprojection__n_components=834, ridge__alpha=100.0 ..\n"
     ]
    },
    {
     "name": "stderr",
     "output_type": "stream",
     "text": [
      "C:\\Users\\Omistaja\\Anaconda3\\lib\\site-packages\\sklearn\\random_projection.py:378: DataDimensionalityWarning: The number of components is higher than the number of features: n_features < n_components (8 < 834).The dimensionality of the problem will not be reduced.\n",
      "  DataDimensionalityWarning)\n"
     ]
    },
    {
     "name": "stdout",
     "output_type": "stream",
     "text": [
      "[CV]  gaussianrandomprojection__n_components=834, ridge__alpha=100.0, score=0.49437151770139265, total=   0.1s\n",
      "[CV] gaussianrandomprojection__n_components=834, ridge__alpha=100.0 ..\n"
     ]
    },
    {
     "name": "stderr",
     "output_type": "stream",
     "text": [
      "C:\\Users\\Omistaja\\Anaconda3\\lib\\site-packages\\sklearn\\random_projection.py:378: DataDimensionalityWarning: The number of components is higher than the number of features: n_features < n_components (8 < 834).The dimensionality of the problem will not be reduced.\n",
      "  DataDimensionalityWarning)\n"
     ]
    },
    {
     "name": "stdout",
     "output_type": "stream",
     "text": [
      "[CV]  gaussianrandomprojection__n_components=834, ridge__alpha=100.0, score=0.5139188577181607, total=   0.1s\n",
      "[CV] gaussianrandomprojection__n_components=834, ridge__alpha=1000.0 .\n"
     ]
    },
    {
     "name": "stderr",
     "output_type": "stream",
     "text": [
      "C:\\Users\\Omistaja\\Anaconda3\\lib\\site-packages\\sklearn\\random_projection.py:378: DataDimensionalityWarning: The number of components is higher than the number of features: n_features < n_components (8 < 834).The dimensionality of the problem will not be reduced.\n",
      "  DataDimensionalityWarning)\n"
     ]
    },
    {
     "name": "stdout",
     "output_type": "stream",
     "text": [
      "[CV]  gaussianrandomprojection__n_components=834, ridge__alpha=1000.0, score=0.3513849488850141, total=   0.1s\n",
      "[CV] gaussianrandomprojection__n_components=834, ridge__alpha=1000.0 .\n"
     ]
    },
    {
     "name": "stderr",
     "output_type": "stream",
     "text": [
      "C:\\Users\\Omistaja\\Anaconda3\\lib\\site-packages\\sklearn\\random_projection.py:378: DataDimensionalityWarning: The number of components is higher than the number of features: n_features < n_components (8 < 834).The dimensionality of the problem will not be reduced.\n",
      "  DataDimensionalityWarning)\n"
     ]
    },
    {
     "name": "stdout",
     "output_type": "stream",
     "text": [
      "[CV]  gaussianrandomprojection__n_components=834, ridge__alpha=1000.0, score=0.4298233266329827, total=   0.1s\n",
      "[CV] gaussianrandomprojection__n_components=834, ridge__alpha=1000.0 .\n"
     ]
    },
    {
     "name": "stderr",
     "output_type": "stream",
     "text": [
      "C:\\Users\\Omistaja\\Anaconda3\\lib\\site-packages\\sklearn\\random_projection.py:378: DataDimensionalityWarning: The number of components is higher than the number of features: n_features < n_components (8 < 834).The dimensionality of the problem will not be reduced.\n",
      "  DataDimensionalityWarning)\n"
     ]
    },
    {
     "name": "stdout",
     "output_type": "stream",
     "text": [
      "[CV]  gaussianrandomprojection__n_components=834, ridge__alpha=1000.0, score=0.414930021338877, total=   0.1s\n",
      "[CV] gaussianrandomprojection__n_components=834, ridge__alpha=1000.0 .\n"
     ]
    },
    {
     "name": "stderr",
     "output_type": "stream",
     "text": [
      "C:\\Users\\Omistaja\\Anaconda3\\lib\\site-packages\\sklearn\\random_projection.py:378: DataDimensionalityWarning: The number of components is higher than the number of features: n_features < n_components (8 < 834).The dimensionality of the problem will not be reduced.\n",
      "  DataDimensionalityWarning)\n"
     ]
    },
    {
     "name": "stdout",
     "output_type": "stream",
     "text": [
      "[CV]  gaussianrandomprojection__n_components=834, ridge__alpha=1000.0, score=0.38905492230584005, total=   0.2s\n",
      "[CV] gaussianrandomprojection__n_components=834, ridge__alpha=1000.0 .\n"
     ]
    },
    {
     "name": "stderr",
     "output_type": "stream",
     "text": [
      "C:\\Users\\Omistaja\\Anaconda3\\lib\\site-packages\\sklearn\\random_projection.py:378: DataDimensionalityWarning: The number of components is higher than the number of features: n_features < n_components (8 < 834).The dimensionality of the problem will not be reduced.\n",
      "  DataDimensionalityWarning)\n"
     ]
    },
    {
     "name": "stdout",
     "output_type": "stream",
     "text": [
      "[CV]  gaussianrandomprojection__n_components=834, ridge__alpha=1000.0, score=0.40406763136070933, total=   0.1s\n",
      "[CV] gaussianrandomprojection__n_components=1000, ridge__alpha=0.001 .\n"
     ]
    },
    {
     "name": "stderr",
     "output_type": "stream",
     "text": [
      "C:\\Users\\Omistaja\\Anaconda3\\lib\\site-packages\\sklearn\\random_projection.py:378: DataDimensionalityWarning: The number of components is higher than the number of features: n_features < n_components (8 < 1000).The dimensionality of the problem will not be reduced.\n",
      "  DataDimensionalityWarning)\n"
     ]
    },
    {
     "name": "stdout",
     "output_type": "stream",
     "text": [
      "[CV]  gaussianrandomprojection__n_components=1000, ridge__alpha=0.001, score=0.5254886694698266, total=   0.2s\n",
      "[CV] gaussianrandomprojection__n_components=1000, ridge__alpha=0.001 .\n"
     ]
    },
    {
     "name": "stderr",
     "output_type": "stream",
     "text": [
      "C:\\Users\\Omistaja\\Anaconda3\\lib\\site-packages\\sklearn\\random_projection.py:378: DataDimensionalityWarning: The number of components is higher than the number of features: n_features < n_components (8 < 1000).The dimensionality of the problem will not be reduced.\n",
      "  DataDimensionalityWarning)\n"
     ]
    },
    {
     "name": "stdout",
     "output_type": "stream",
     "text": [
      "[CV]  gaussianrandomprojection__n_components=1000, ridge__alpha=0.001, score=0.5552300663042257, total=   0.2s\n",
      "[CV] gaussianrandomprojection__n_components=1000, ridge__alpha=0.001 .\n"
     ]
    },
    {
     "name": "stderr",
     "output_type": "stream",
     "text": [
      "C:\\Users\\Omistaja\\Anaconda3\\lib\\site-packages\\sklearn\\random_projection.py:378: DataDimensionalityWarning: The number of components is higher than the number of features: n_features < n_components (8 < 1000).The dimensionality of the problem will not be reduced.\n",
      "  DataDimensionalityWarning)\n"
     ]
    },
    {
     "name": "stdout",
     "output_type": "stream",
     "text": [
      "[CV]  gaussianrandomprojection__n_components=1000, ridge__alpha=0.001, score=0.5521491845316362, total=   0.2s\n",
      "[CV] gaussianrandomprojection__n_components=1000, ridge__alpha=0.001 .\n"
     ]
    },
    {
     "name": "stderr",
     "output_type": "stream",
     "text": [
      "C:\\Users\\Omistaja\\Anaconda3\\lib\\site-packages\\sklearn\\random_projection.py:378: DataDimensionalityWarning: The number of components is higher than the number of features: n_features < n_components (8 < 1000).The dimensionality of the problem will not be reduced.\n",
      "  DataDimensionalityWarning)\n"
     ]
    },
    {
     "name": "stdout",
     "output_type": "stream",
     "text": [
      "[CV]  gaussianrandomprojection__n_components=1000, ridge__alpha=0.001, score=-1.7371512243876783, total=   0.2s\n",
      "[CV] gaussianrandomprojection__n_components=1000, ridge__alpha=0.001 .\n"
     ]
    },
    {
     "name": "stderr",
     "output_type": "stream",
     "text": [
      "C:\\Users\\Omistaja\\Anaconda3\\lib\\site-packages\\sklearn\\random_projection.py:378: DataDimensionalityWarning: The number of components is higher than the number of features: n_features < n_components (8 < 1000).The dimensionality of the problem will not be reduced.\n",
      "  DataDimensionalityWarning)\n"
     ]
    },
    {
     "name": "stdout",
     "output_type": "stream",
     "text": [
      "[CV]  gaussianrandomprojection__n_components=1000, ridge__alpha=0.001, score=0.5465535888041917, total=   0.2s\n",
      "[CV] gaussianrandomprojection__n_components=1000, ridge__alpha=0.01 ..\n"
     ]
    },
    {
     "name": "stderr",
     "output_type": "stream",
     "text": [
      "C:\\Users\\Omistaja\\Anaconda3\\lib\\site-packages\\sklearn\\random_projection.py:378: DataDimensionalityWarning: The number of components is higher than the number of features: n_features < n_components (8 < 1000).The dimensionality of the problem will not be reduced.\n",
      "  DataDimensionalityWarning)\n"
     ]
    },
    {
     "name": "stdout",
     "output_type": "stream",
     "text": [
      "[CV]  gaussianrandomprojection__n_components=1000, ridge__alpha=0.01, score=0.5180680786464964, total=   0.2s\n",
      "[CV] gaussianrandomprojection__n_components=1000, ridge__alpha=0.01 ..\n"
     ]
    },
    {
     "name": "stderr",
     "output_type": "stream",
     "text": [
      "C:\\Users\\Omistaja\\Anaconda3\\lib\\site-packages\\sklearn\\random_projection.py:378: DataDimensionalityWarning: The number of components is higher than the number of features: n_features < n_components (8 < 1000).The dimensionality of the problem will not be reduced.\n",
      "  DataDimensionalityWarning)\n"
     ]
    },
    {
     "name": "stdout",
     "output_type": "stream",
     "text": [
      "[CV]  gaussianrandomprojection__n_components=1000, ridge__alpha=0.01, score=0.5772133167659275, total=   0.2s\n",
      "[CV] gaussianrandomprojection__n_components=1000, ridge__alpha=0.01 ..\n"
     ]
    },
    {
     "name": "stderr",
     "output_type": "stream",
     "text": [
      "C:\\Users\\Omistaja\\Anaconda3\\lib\\site-packages\\sklearn\\random_projection.py:378: DataDimensionalityWarning: The number of components is higher than the number of features: n_features < n_components (8 < 1000).The dimensionality of the problem will not be reduced.\n",
      "  DataDimensionalityWarning)\n"
     ]
    },
    {
     "name": "stdout",
     "output_type": "stream",
     "text": [
      "[CV]  gaussianrandomprojection__n_components=1000, ridge__alpha=0.01, score=0.5487866579466538, total=   0.2s\n",
      "[CV] gaussianrandomprojection__n_components=1000, ridge__alpha=0.01 ..\n"
     ]
    },
    {
     "name": "stderr",
     "output_type": "stream",
     "text": [
      "C:\\Users\\Omistaja\\Anaconda3\\lib\\site-packages\\sklearn\\random_projection.py:378: DataDimensionalityWarning: The number of components is higher than the number of features: n_features < n_components (8 < 1000).The dimensionality of the problem will not be reduced.\n",
      "  DataDimensionalityWarning)\n"
     ]
    },
    {
     "name": "stdout",
     "output_type": "stream",
     "text": [
      "[CV]  gaussianrandomprojection__n_components=1000, ridge__alpha=0.01, score=0.5253650639877798, total=   0.2s\n",
      "[CV] gaussianrandomprojection__n_components=1000, ridge__alpha=0.01 ..\n"
     ]
    },
    {
     "name": "stderr",
     "output_type": "stream",
     "text": [
      "C:\\Users\\Omistaja\\Anaconda3\\lib\\site-packages\\sklearn\\random_projection.py:378: DataDimensionalityWarning: The number of components is higher than the number of features: n_features < n_components (8 < 1000).The dimensionality of the problem will not be reduced.\n",
      "  DataDimensionalityWarning)\n"
     ]
    },
    {
     "name": "stdout",
     "output_type": "stream",
     "text": [
      "[CV]  gaussianrandomprojection__n_components=1000, ridge__alpha=0.01, score=0.5491886595388803, total=   0.1s\n",
      "[CV] gaussianrandomprojection__n_components=1000, ridge__alpha=0.1 ...\n"
     ]
    },
    {
     "name": "stderr",
     "output_type": "stream",
     "text": [
      "C:\\Users\\Omistaja\\Anaconda3\\lib\\site-packages\\sklearn\\random_projection.py:378: DataDimensionalityWarning: The number of components is higher than the number of features: n_features < n_components (8 < 1000).The dimensionality of the problem will not be reduced.\n",
      "  DataDimensionalityWarning)\n"
     ]
    },
    {
     "name": "stdout",
     "output_type": "stream",
     "text": [
      "[CV]  gaussianrandomprojection__n_components=1000, ridge__alpha=0.1, score=0.49927598685132074, total=   0.2s\n",
      "[CV] gaussianrandomprojection__n_components=1000, ridge__alpha=0.1 ...\n"
     ]
    },
    {
     "name": "stderr",
     "output_type": "stream",
     "text": [
      "C:\\Users\\Omistaja\\Anaconda3\\lib\\site-packages\\sklearn\\random_projection.py:378: DataDimensionalityWarning: The number of components is higher than the number of features: n_features < n_components (8 < 1000).The dimensionality of the problem will not be reduced.\n",
      "  DataDimensionalityWarning)\n"
     ]
    },
    {
     "name": "stdout",
     "output_type": "stream",
     "text": [
      "[CV]  gaussianrandomprojection__n_components=1000, ridge__alpha=0.1, score=0.5747169053610206, total=   0.3s\n",
      "[CV] gaussianrandomprojection__n_components=1000, ridge__alpha=0.1 ...\n"
     ]
    },
    {
     "name": "stderr",
     "output_type": "stream",
     "text": [
      "C:\\Users\\Omistaja\\Anaconda3\\lib\\site-packages\\sklearn\\random_projection.py:378: DataDimensionalityWarning: The number of components is higher than the number of features: n_features < n_components (8 < 1000).The dimensionality of the problem will not be reduced.\n",
      "  DataDimensionalityWarning)\n"
     ]
    },
    {
     "name": "stdout",
     "output_type": "stream",
     "text": [
      "[CV]  gaussianrandomprojection__n_components=1000, ridge__alpha=0.1, score=0.5390247945866623, total=   0.3s\n",
      "[CV] gaussianrandomprojection__n_components=1000, ridge__alpha=0.1 ...\n"
     ]
    },
    {
     "name": "stderr",
     "output_type": "stream",
     "text": [
      "C:\\Users\\Omistaja\\Anaconda3\\lib\\site-packages\\sklearn\\random_projection.py:378: DataDimensionalityWarning: The number of components is higher than the number of features: n_features < n_components (8 < 1000).The dimensionality of the problem will not be reduced.\n",
      "  DataDimensionalityWarning)\n"
     ]
    },
    {
     "name": "stdout",
     "output_type": "stream",
     "text": [
      "[CV]  gaussianrandomprojection__n_components=1000, ridge__alpha=0.1, score=0.5309885618427578, total=   0.3s\n",
      "[CV] gaussianrandomprojection__n_components=1000, ridge__alpha=0.1 ...\n"
     ]
    },
    {
     "name": "stderr",
     "output_type": "stream",
     "text": [
      "C:\\Users\\Omistaja\\Anaconda3\\lib\\site-packages\\sklearn\\random_projection.py:378: DataDimensionalityWarning: The number of components is higher than the number of features: n_features < n_components (8 < 1000).The dimensionality of the problem will not be reduced.\n",
      "  DataDimensionalityWarning)\n"
     ]
    },
    {
     "name": "stdout",
     "output_type": "stream",
     "text": [
      "[CV]  gaussianrandomprojection__n_components=1000, ridge__alpha=0.1, score=0.5478350068740666, total=   0.2s\n",
      "[CV] gaussianrandomprojection__n_components=1000, ridge__alpha=1.0 ...\n"
     ]
    },
    {
     "name": "stderr",
     "output_type": "stream",
     "text": [
      "C:\\Users\\Omistaja\\Anaconda3\\lib\\site-packages\\sklearn\\random_projection.py:378: DataDimensionalityWarning: The number of components is higher than the number of features: n_features < n_components (8 < 1000).The dimensionality of the problem will not be reduced.\n",
      "  DataDimensionalityWarning)\n"
     ]
    },
    {
     "name": "stdout",
     "output_type": "stream",
     "text": [
      "[CV]  gaussianrandomprojection__n_components=1000, ridge__alpha=1.0, score=0.4885527112018122, total=   0.3s\n",
      "[CV] gaussianrandomprojection__n_components=1000, ridge__alpha=1.0 ...\n"
     ]
    },
    {
     "name": "stderr",
     "output_type": "stream",
     "text": [
      "C:\\Users\\Omistaja\\Anaconda3\\lib\\site-packages\\sklearn\\random_projection.py:378: DataDimensionalityWarning: The number of components is higher than the number of features: n_features < n_components (8 < 1000).The dimensionality of the problem will not be reduced.\n",
      "  DataDimensionalityWarning)\n"
     ]
    },
    {
     "name": "stdout",
     "output_type": "stream",
     "text": [
      "[CV]  gaussianrandomprojection__n_components=1000, ridge__alpha=1.0, score=0.5737773494533521, total=   0.2s\n",
      "[CV] gaussianrandomprojection__n_components=1000, ridge__alpha=1.0 ...\n"
     ]
    },
    {
     "name": "stderr",
     "output_type": "stream",
     "text": [
      "C:\\Users\\Omistaja\\Anaconda3\\lib\\site-packages\\sklearn\\random_projection.py:378: DataDimensionalityWarning: The number of components is higher than the number of features: n_features < n_components (8 < 1000).The dimensionality of the problem will not be reduced.\n",
      "  DataDimensionalityWarning)\n"
     ]
    },
    {
     "name": "stdout",
     "output_type": "stream",
     "text": [
      "[CV]  gaussianrandomprojection__n_components=1000, ridge__alpha=1.0, score=0.5328234779779255, total=   0.2s\n",
      "[CV] gaussianrandomprojection__n_components=1000, ridge__alpha=1.0 ...\n"
     ]
    },
    {
     "name": "stderr",
     "output_type": "stream",
     "text": [
      "C:\\Users\\Omistaja\\Anaconda3\\lib\\site-packages\\sklearn\\random_projection.py:378: DataDimensionalityWarning: The number of components is higher than the number of features: n_features < n_components (8 < 1000).The dimensionality of the problem will not be reduced.\n",
      "  DataDimensionalityWarning)\n"
     ]
    },
    {
     "name": "stdout",
     "output_type": "stream",
     "text": [
      "[CV]  gaussianrandomprojection__n_components=1000, ridge__alpha=1.0, score=0.5350617613414577, total=   0.2s\n",
      "[CV] gaussianrandomprojection__n_components=1000, ridge__alpha=1.0 ...\n"
     ]
    },
    {
     "name": "stderr",
     "output_type": "stream",
     "text": [
      "C:\\Users\\Omistaja\\Anaconda3\\lib\\site-packages\\sklearn\\random_projection.py:378: DataDimensionalityWarning: The number of components is higher than the number of features: n_features < n_components (8 < 1000).The dimensionality of the problem will not be reduced.\n",
      "  DataDimensionalityWarning)\n"
     ]
    },
    {
     "name": "stdout",
     "output_type": "stream",
     "text": [
      "[CV]  gaussianrandomprojection__n_components=1000, ridge__alpha=1.0, score=0.5403059383055455, total=   0.2s\n",
      "[CV] gaussianrandomprojection__n_components=1000, ridge__alpha=10.0 ..\n"
     ]
    },
    {
     "name": "stderr",
     "output_type": "stream",
     "text": [
      "C:\\Users\\Omistaja\\Anaconda3\\lib\\site-packages\\sklearn\\random_projection.py:378: DataDimensionalityWarning: The number of components is higher than the number of features: n_features < n_components (8 < 1000).The dimensionality of the problem will not be reduced.\n",
      "  DataDimensionalityWarning)\n"
     ]
    },
    {
     "name": "stdout",
     "output_type": "stream",
     "text": [
      "[CV]  gaussianrandomprojection__n_components=1000, ridge__alpha=10.0, score=0.47866938874049714, total=   0.2s\n",
      "[CV] gaussianrandomprojection__n_components=1000, ridge__alpha=10.0 ..\n"
     ]
    },
    {
     "name": "stderr",
     "output_type": "stream",
     "text": [
      "C:\\Users\\Omistaja\\Anaconda3\\lib\\site-packages\\sklearn\\random_projection.py:378: DataDimensionalityWarning: The number of components is higher than the number of features: n_features < n_components (8 < 1000).The dimensionality of the problem will not be reduced.\n",
      "  DataDimensionalityWarning)\n"
     ]
    },
    {
     "name": "stdout",
     "output_type": "stream",
     "text": [
      "[CV]  gaussianrandomprojection__n_components=1000, ridge__alpha=10.0, score=0.569315698820078, total=   0.2s\n",
      "[CV] gaussianrandomprojection__n_components=1000, ridge__alpha=10.0 ..\n"
     ]
    },
    {
     "name": "stderr",
     "output_type": "stream",
     "text": [
      "C:\\Users\\Omistaja\\Anaconda3\\lib\\site-packages\\sklearn\\random_projection.py:378: DataDimensionalityWarning: The number of components is higher than the number of features: n_features < n_components (8 < 1000).The dimensionality of the problem will not be reduced.\n",
      "  DataDimensionalityWarning)\n"
     ]
    },
    {
     "name": "stdout",
     "output_type": "stream",
     "text": [
      "[CV]  gaussianrandomprojection__n_components=1000, ridge__alpha=10.0, score=0.5292474401756051, total=   0.2s\n",
      "[CV] gaussianrandomprojection__n_components=1000, ridge__alpha=10.0 ..\n"
     ]
    },
    {
     "name": "stderr",
     "output_type": "stream",
     "text": [
      "C:\\Users\\Omistaja\\Anaconda3\\lib\\site-packages\\sklearn\\random_projection.py:378: DataDimensionalityWarning: The number of components is higher than the number of features: n_features < n_components (8 < 1000).The dimensionality of the problem will not be reduced.\n",
      "  DataDimensionalityWarning)\n"
     ]
    },
    {
     "name": "stdout",
     "output_type": "stream",
     "text": [
      "[CV]  gaussianrandomprojection__n_components=1000, ridge__alpha=10.0, score=0.5175268473080947, total=   0.2s\n",
      "[CV] gaussianrandomprojection__n_components=1000, ridge__alpha=10.0 ..\n"
     ]
    },
    {
     "name": "stderr",
     "output_type": "stream",
     "text": [
      "C:\\Users\\Omistaja\\Anaconda3\\lib\\site-packages\\sklearn\\random_projection.py:378: DataDimensionalityWarning: The number of components is higher than the number of features: n_features < n_components (8 < 1000).The dimensionality of the problem will not be reduced.\n",
      "  DataDimensionalityWarning)\n"
     ]
    },
    {
     "name": "stdout",
     "output_type": "stream",
     "text": [
      "[CV]  gaussianrandomprojection__n_components=1000, ridge__alpha=10.0, score=0.536064450551391, total=   0.2s\n",
      "[CV] gaussianrandomprojection__n_components=1000, ridge__alpha=100.0 .\n"
     ]
    },
    {
     "name": "stderr",
     "output_type": "stream",
     "text": [
      "C:\\Users\\Omistaja\\Anaconda3\\lib\\site-packages\\sklearn\\random_projection.py:378: DataDimensionalityWarning: The number of components is higher than the number of features: n_features < n_components (8 < 1000).The dimensionality of the problem will not be reduced.\n",
      "  DataDimensionalityWarning)\n"
     ]
    },
    {
     "name": "stdout",
     "output_type": "stream",
     "text": [
      "[CV]  gaussianrandomprojection__n_components=1000, ridge__alpha=100.0, score=0.4519280852721168, total=   0.2s\n",
      "[CV] gaussianrandomprojection__n_components=1000, ridge__alpha=100.0 .\n"
     ]
    },
    {
     "name": "stderr",
     "output_type": "stream",
     "text": [
      "C:\\Users\\Omistaja\\Anaconda3\\lib\\site-packages\\sklearn\\random_projection.py:378: DataDimensionalityWarning: The number of components is higher than the number of features: n_features < n_components (8 < 1000).The dimensionality of the problem will not be reduced.\n",
      "  DataDimensionalityWarning)\n"
     ]
    },
    {
     "name": "stdout",
     "output_type": "stream",
     "text": [
      "[CV]  gaussianrandomprojection__n_components=1000, ridge__alpha=100.0, score=0.5388003586938915, total=   0.2s\n",
      "[CV] gaussianrandomprojection__n_components=1000, ridge__alpha=100.0 .\n"
     ]
    },
    {
     "name": "stderr",
     "output_type": "stream",
     "text": [
      "C:\\Users\\Omistaja\\Anaconda3\\lib\\site-packages\\sklearn\\random_projection.py:378: DataDimensionalityWarning: The number of components is higher than the number of features: n_features < n_components (8 < 1000).The dimensionality of the problem will not be reduced.\n",
      "  DataDimensionalityWarning)\n"
     ]
    },
    {
     "name": "stdout",
     "output_type": "stream",
     "text": [
      "[CV]  gaussianrandomprojection__n_components=1000, ridge__alpha=100.0, score=0.5140129401731823, total=   0.2s\n",
      "[CV] gaussianrandomprojection__n_components=1000, ridge__alpha=100.0 .\n"
     ]
    },
    {
     "name": "stderr",
     "output_type": "stream",
     "text": [
      "C:\\Users\\Omistaja\\Anaconda3\\lib\\site-packages\\sklearn\\random_projection.py:378: DataDimensionalityWarning: The number of components is higher than the number of features: n_features < n_components (8 < 1000).The dimensionality of the problem will not be reduced.\n",
      "  DataDimensionalityWarning)\n"
     ]
    },
    {
     "name": "stdout",
     "output_type": "stream",
     "text": [
      "[CV]  gaussianrandomprojection__n_components=1000, ridge__alpha=100.0, score=0.48450930798954683, total=   0.2s\n",
      "[CV] gaussianrandomprojection__n_components=1000, ridge__alpha=100.0 .\n"
     ]
    },
    {
     "name": "stderr",
     "output_type": "stream",
     "text": [
      "C:\\Users\\Omistaja\\Anaconda3\\lib\\site-packages\\sklearn\\random_projection.py:378: DataDimensionalityWarning: The number of components is higher than the number of features: n_features < n_components (8 < 1000).The dimensionality of the problem will not be reduced.\n",
      "  DataDimensionalityWarning)\n"
     ]
    },
    {
     "name": "stdout",
     "output_type": "stream",
     "text": [
      "[CV]  gaussianrandomprojection__n_components=1000, ridge__alpha=100.0, score=0.51627441292127, total=   0.2s\n",
      "[CV] gaussianrandomprojection__n_components=1000, ridge__alpha=1000.0 \n"
     ]
    },
    {
     "name": "stderr",
     "output_type": "stream",
     "text": [
      "C:\\Users\\Omistaja\\Anaconda3\\lib\\site-packages\\sklearn\\random_projection.py:378: DataDimensionalityWarning: The number of components is higher than the number of features: n_features < n_components (8 < 1000).The dimensionality of the problem will not be reduced.\n",
      "  DataDimensionalityWarning)\n"
     ]
    },
    {
     "name": "stdout",
     "output_type": "stream",
     "text": [
      "[CV]  gaussianrandomprojection__n_components=1000, ridge__alpha=1000.0, score=0.35353359566753223, total=   0.2s\n",
      "[CV] gaussianrandomprojection__n_components=1000, ridge__alpha=1000.0 \n"
     ]
    },
    {
     "name": "stderr",
     "output_type": "stream",
     "text": [
      "C:\\Users\\Omistaja\\Anaconda3\\lib\\site-packages\\sklearn\\random_projection.py:378: DataDimensionalityWarning: The number of components is higher than the number of features: n_features < n_components (8 < 1000).The dimensionality of the problem will not be reduced.\n",
      "  DataDimensionalityWarning)\n"
     ]
    },
    {
     "name": "stdout",
     "output_type": "stream",
     "text": [
      "[CV]  gaussianrandomprojection__n_components=1000, ridge__alpha=1000.0, score=0.42866712704579246, total=   0.2s\n",
      "[CV] gaussianrandomprojection__n_components=1000, ridge__alpha=1000.0 \n"
     ]
    },
    {
     "name": "stderr",
     "output_type": "stream",
     "text": [
      "C:\\Users\\Omistaja\\Anaconda3\\lib\\site-packages\\sklearn\\random_projection.py:378: DataDimensionalityWarning: The number of components is higher than the number of features: n_features < n_components (8 < 1000).The dimensionality of the problem will not be reduced.\n",
      "  DataDimensionalityWarning)\n"
     ]
    },
    {
     "name": "stdout",
     "output_type": "stream",
     "text": [
      "[CV]  gaussianrandomprojection__n_components=1000, ridge__alpha=1000.0, score=0.41427063993828994, total=   0.2s\n",
      "[CV] gaussianrandomprojection__n_components=1000, ridge__alpha=1000.0 \n"
     ]
    },
    {
     "name": "stderr",
     "output_type": "stream",
     "text": [
      "C:\\Users\\Omistaja\\Anaconda3\\lib\\site-packages\\sklearn\\random_projection.py:378: DataDimensionalityWarning: The number of components is higher than the number of features: n_features < n_components (8 < 1000).The dimensionality of the problem will not be reduced.\n",
      "  DataDimensionalityWarning)\n"
     ]
    },
    {
     "name": "stdout",
     "output_type": "stream",
     "text": [
      "[CV]  gaussianrandomprojection__n_components=1000, ridge__alpha=1000.0, score=0.389833384007757, total=   0.2s\n",
      "[CV] gaussianrandomprojection__n_components=1000, ridge__alpha=1000.0 \n"
     ]
    },
    {
     "name": "stderr",
     "output_type": "stream",
     "text": [
      "C:\\Users\\Omistaja\\Anaconda3\\lib\\site-packages\\sklearn\\random_projection.py:378: DataDimensionalityWarning: The number of components is higher than the number of features: n_features < n_components (8 < 1000).The dimensionality of the problem will not be reduced.\n",
      "  DataDimensionalityWarning)\n"
     ]
    },
    {
     "name": "stdout",
     "output_type": "stream",
     "text": [
      "[CV]  gaussianrandomprojection__n_components=1000, ridge__alpha=1000.0, score=0.40585685228489576, total=   0.2s\n",
      "[Parallel(n_jobs=1)]: Done 245 out of 245 | elapsed:   41.2s finished\n"
     ]
    },
    {
     "name": "stderr",
     "output_type": "stream",
     "text": [
      "C:\\Users\\Omistaja\\Anaconda3\\lib\\site-packages\\sklearn\\random_projection.py:378: DataDimensionalityWarning: The number of components is higher than the number of features: n_features < n_components (8 < 170).The dimensionality of the problem will not be reduced.\n",
      "  DataDimensionalityWarning)\n"
     ]
    },
    {
     "data": {
      "text/plain": [
       "GridSearchCV(cv=5, error_score='raise',\n",
       "       estimator=Pipeline(memory=None,\n",
       "     steps=[('standardscaler', StandardScaler(copy=True, with_mean=True, with_std=True)), ('gaussianrandomprojection', GaussianRandomProjection(eps=0.1, n_components=25, random_state=None)), ('mymodelpart', MyModelPart()), ('ridge', Ridge(alpha=1.0, copy_X=True, fit_intercept=True, max_iter=None,\n",
       "   normalize=False, random_state=None, solver='auto', tol=0.001))]),\n",
       "       fit_params=None, iid=True, n_jobs=1,\n",
       "       param_grid=[{'gaussianrandomprojection__n_components': array([   5,  170,  336,  502,  668,  834, 1000]), 'ridge__alpha': array([1.e-03, 1.e-02, 1.e-01, 1.e+00, 1.e+01, 1.e+02, 1.e+03])}],\n",
       "       pre_dispatch='2*n_jobs', refit=True, return_train_score='warn',\n",
       "       scoring=None, verbose=99)"
      ]
     },
     "execution_count": 46,
     "metadata": {},
     "output_type": "execute_result"
    }
   ],
   "source": [
    "grid_l.fit(X_train, y_train) #I have tried several hours to run this code but it doesn't show any progress.\n",
    "                             #That's why I can't continue the rest of the part. "
   ]
  },
  {
   "cell_type": "code",
   "execution_count": 47,
   "metadata": {
    "scrolled": true
   },
   "outputs": [],
   "source": [
    "MAE= np.abs(y_test - grid_l.predict(X_test)).mean()"
   ]
  },
  {
   "cell_type": "code",
   "execution_count": 49,
   "metadata": {},
   "outputs": [],
   "source": [
    "# random forest regressor\n",
    "from sklearn.ensemble import RandomForestRegressor\n",
    "model = RandomForestRegressor(n_estimators=5)\n",
    "model.fit(X_train, y_train)\n",
    "predicted_test_y = model.predict(X_test)\n",
    "rms_random_forest = np.abs(y_test, predicted_test_y).mean()\n"
   ]
  },
  {
   "cell_type": "code",
   "execution_count": 50,
   "metadata": {},
   "outputs": [
    {
     "data": {
      "text/plain": [
       "9.844976076555024"
      ]
     },
     "execution_count": 50,
     "metadata": {},
     "output_type": "execute_result"
    }
   ],
   "source": [
    "rms_random_forest"
   ]
  },
  {
   "cell_type": "code",
   "execution_count": 51,
   "metadata": {},
   "outputs": [
    {
     "data": {
      "text/plain": [
       "1.5182909077053766"
      ]
     },
     "execution_count": 51,
     "metadata": {},
     "output_type": "execute_result"
    }
   ],
   "source": [
    "MAE"
   ]
  },
  {
   "cell_type": "code",
   "execution_count": null,
   "metadata": {},
   "outputs": [],
   "source": []
  }
 ],
 "metadata": {
  "kernelspec": {
   "display_name": "Python 3",
   "language": "python",
   "name": "python3"
  },
  "language_info": {
   "codemirror_mode": {
    "name": "ipython",
    "version": 3
   },
   "file_extension": ".py",
   "mimetype": "text/x-python",
   "name": "python",
   "nbconvert_exporter": "python",
   "pygments_lexer": "ipython3",
   "version": "3.7.0"
  }
 },
 "nbformat": 4,
 "nbformat_minor": 2
}
